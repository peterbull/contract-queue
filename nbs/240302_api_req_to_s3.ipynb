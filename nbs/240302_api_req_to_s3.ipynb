{
 "cells": [
  {
   "cell_type": "code",
   "execution_count": 1,
   "metadata": {},
   "outputs": [],
   "source": [
    "from dotenv import load_dotenv\n",
    "import os\n",
    "import requests\n",
    "import json\n",
    "import re\n",
    "import fitz\n",
    "import magic\n",
    "import pandas as pd\n",
    "from io import BytesIO\n",
    "import pendulum"
   ]
  },
  {
   "cell_type": "code",
   "execution_count": 2,
   "metadata": {},
   "outputs": [
    {
     "data": {
      "text/plain": [
       "True"
      ]
     },
     "execution_count": 2,
     "metadata": {},
     "output_type": "execute_result"
    }
   ],
   "source": [
    "load_dotenv()"
   ]
  },
  {
   "cell_type": "code",
   "execution_count": 3,
   "metadata": {},
   "outputs": [],
   "source": [
    "SAM_PUBLIC_API_KEY = os.environ.get(\"SAM_PUBLIC_API_KEY\")\n",
    "S3_AWS_ACCESS_KEY_ID = os.environ.get(\"S3_AWS_ACCESS_KEY_ID\")\n",
    "S3_AWS_SECRET_ACCESS_KEY = os.environ.get(\"S3_AWS_SECRET_ACCESS_KEY\")\n",
    "S3_REGION_NAME = os.environ.get(\"S3_REGION_NAME\")\n",
    "S3_BUCKET_OPPORTUNITIES = os.environ.get(\"S3_BUCKET_OPPORTUNITIES\") "
   ]
  },
  {
   "cell_type": "code",
   "execution_count": 4,
   "metadata": {},
   "outputs": [],
   "source": [
    "previous_day = pendulum.now('utc').subtract(days=1).strftime('%Y%m%d')\n",
    "formattted_request_date = pendulum.parse(previous_day, strict=False).format('MM/DD/YYYY')\n",
    "base_url = \"https://api.sam.gov/opportunities/v2/search\""
   ]
  },
  {
   "cell_type": "code",
   "execution_count": 5,
   "metadata": {},
   "outputs": [
    {
     "data": {
      "text/plain": [
       "'03/01/2024'"
      ]
     },
     "execution_count": 5,
     "metadata": {},
     "output_type": "execute_result"
    }
   ],
   "source": [
    "formattted_request_date"
   ]
  },
  {
   "cell_type": "code",
   "execution_count": 6,
   "metadata": {},
   "outputs": [
    {
     "data": {
      "text/plain": [
       "(str, '03/01/2024')"
      ]
     },
     "execution_count": 6,
     "metadata": {},
     "output_type": "execute_result"
    }
   ],
   "source": [
    "type(formattted_request_date), formattted_request_date"
   ]
  },
  {
   "cell_type": "code",
   "execution_count": 7,
   "metadata": {},
   "outputs": [],
   "source": [
    "params = {\n",
    "    \"api_key\": SAM_PUBLIC_API_KEY,\n",
    "    \"postedFrom\": formattted_request_date,  \n",
    "    \"postedTo\": formattted_request_date,    \n",
    "    \"ptype\": \"o\",\n",
    "    \"limit\": 1000,\n",
    "    \"offset\": 0\n",
    "}"
   ]
  },
  {
   "cell_type": "code",
   "execution_count": 8,
   "metadata": {},
   "outputs": [
    {
     "data": {
      "text/plain": [
       "('03/01/2024', '03/01/2024')"
      ]
     },
     "execution_count": 8,
     "metadata": {},
     "output_type": "execute_result"
    }
   ],
   "source": [
    "params['postedFrom'], params['postedTo']"
   ]
  },
  {
   "cell_type": "code",
   "execution_count": 9,
   "metadata": {},
   "outputs": [],
   "source": [
    "all_records = []"
   ]
  },
  {
   "cell_type": "code",
   "execution_count": 10,
   "metadata": {},
   "outputs": [
    {
     "data": {
      "text/plain": [
       "<Response [200]>"
      ]
     },
     "execution_count": 10,
     "metadata": {},
     "output_type": "execute_result"
    }
   ],
   "source": [
    "# res = requests.get(base_url, params=params)\n",
    "# res"
   ]
  },
  {
   "cell_type": "code",
   "execution_count": 11,
   "metadata": {},
   "outputs": [],
   "source": [
    "# data = res.json()"
   ]
  },
  {
   "cell_type": "code",
   "execution_count": 12,
   "metadata": {},
   "outputs": [],
   "source": [
    "# try:\n",
    "#     data\n",
    "# except NameError:\n",
    "#     data ={'error': {'code': 'OVER_RATE_LIMIT',\n",
    "#            'message': 'The API key has exceeded the rate limits.'}}"
   ]
  },
  {
   "cell_type": "code",
   "execution_count": 18,
   "metadata": {},
   "outputs": [
    {
     "name": "stdout",
     "output_type": "stream",
     "text": [
      "./data/20240301_full_response.json already exists\n"
     ]
    }
   ],
   "source": [
    "data_path = f'./data/{previous_day}_full_response.json'\n",
    "if not os.path.exists(data_path):\n",
    "    with open(f'./data/{previous_day}_full_response.json', 'w') as f:\n",
    "        json.dump(data, f, indent=4)\n",
    "else:\n",
    "    print(f\"{data_path} already exists\")"
   ]
  },
  {
   "cell_type": "code",
   "execution_count": null,
   "metadata": {},
   "outputs": [],
   "source": [
    "while True:\n",
    "    res = requests.get(base_url, params=params)\n",
    "    data = res.json()\n",
    "    \n",
    "    "
   ]
  }
 ],
 "metadata": {
  "kernelspec": {
   "display_name": ".venv",
   "language": "python",
   "name": "python3"
  },
  "language_info": {
   "codemirror_mode": {
    "name": "ipython",
    "version": 3
   },
   "file_extension": ".py",
   "mimetype": "text/x-python",
   "name": "python",
   "nbconvert_exporter": "python",
   "pygments_lexer": "ipython3",
   "version": "3.10.12"
  }
 },
 "nbformat": 4,
 "nbformat_minor": 2
}
