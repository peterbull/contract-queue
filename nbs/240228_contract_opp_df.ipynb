{
 "cells": [
  {
   "cell_type": "markdown",
   "metadata": {},
   "source": [
    "## Contract Opportunity CSV"
   ]
  },
  {
   "cell_type": "markdown",
   "metadata": {},
   "source": [
    "The data file for this is located at the following link, you'll need a sam.gov login to access\n",
    "- [Contract Opportunity CSV](https://sam.gov/data-services/Contract%20Opportunities/datagov?privacy=Public)"
   ]
  },
  {
   "cell_type": "code",
   "execution_count": 1,
   "metadata": {},
   "outputs": [],
   "source": [
    "import pandas as pd"
   ]
  },
  {
   "cell_type": "code",
   "execution_count": 2,
   "metadata": {},
   "outputs": [
    {
     "name": "stdout",
     "output_type": "stream",
     "text": [
      "<_io.TextIOWrapper name='./data/ContractOpportunitiesFullCSV.csv' mode='r' encoding='UTF-8'>\n"
     ]
    }
   ],
   "source": [
    "with open(\"./data/ContractOpportunitiesFullCSV.csv\") as f:\n",
    "    print(f)"
   ]
  },
  {
   "cell_type": "code",
   "execution_count": 3,
   "metadata": {},
   "outputs": [
    {
     "name": "stderr",
     "output_type": "stream",
     "text": [
      "/tmp/ipykernel_32460/3083438056.py:1: DtypeWarning: Columns (27,34) have mixed types. Specify dtype option on import or set low_memory=False.\n",
      "  df = pd.read_csv('./data/ContractOpportunitiesFullCSV.csv', encoding_errors=\"ignore\")\n"
     ]
    }
   ],
   "source": [
    "df = pd.read_csv('./data/ContractOpportunitiesFullCSV.csv', encoding_errors=\"ignore\")"
   ]
  },
  {
   "cell_type": "code",
   "execution_count": 4,
   "metadata": {},
   "outputs": [
    {
     "data": {
      "text/html": [
       "<div>\n",
       "<style scoped>\n",
       "    .dataframe tbody tr th:only-of-type {\n",
       "        vertical-align: middle;\n",
       "    }\n",
       "\n",
       "    .dataframe tbody tr th {\n",
       "        vertical-align: top;\n",
       "    }\n",
       "\n",
       "    .dataframe thead th {\n",
       "        text-align: right;\n",
       "    }\n",
       "</style>\n",
       "<table border=\"1\" class=\"dataframe\">\n",
       "  <thead>\n",
       "    <tr style=\"text-align: right;\">\n",
       "      <th></th>\n",
       "      <th>NoticeId</th>\n",
       "      <th>Title</th>\n",
       "      <th>Sol#</th>\n",
       "      <th>Department/Ind.Agency</th>\n",
       "      <th>CGAC</th>\n",
       "      <th>Sub-Tier</th>\n",
       "      <th>FPDS Code</th>\n",
       "      <th>Office</th>\n",
       "      <th>AAC Code</th>\n",
       "      <th>PostedDate</th>\n",
       "      <th>...</th>\n",
       "      <th>SecondaryContactPhone</th>\n",
       "      <th>SecondaryContactFax</th>\n",
       "      <th>OrganizationType</th>\n",
       "      <th>State</th>\n",
       "      <th>City</th>\n",
       "      <th>ZipCode</th>\n",
       "      <th>CountryCode</th>\n",
       "      <th>AdditionalInfoLink</th>\n",
       "      <th>Link</th>\n",
       "      <th>Description</th>\n",
       "    </tr>\n",
       "  </thead>\n",
       "  <tbody>\n",
       "    <tr>\n",
       "      <th>0</th>\n",
       "      <td>d67d966ca8884492a7d34b22b0a76fec</td>\n",
       "      <td>10--CHUTE ASSEMBLY,AMMU</td>\n",
       "      <td>SPE7L424T3316</td>\n",
       "      <td>DEPT OF DEFENSE</td>\n",
       "      <td>97.0</td>\n",
       "      <td>DEFENSE LOGISTICS AGENCY</td>\n",
       "      <td>97AS</td>\n",
       "      <td>DLA LAND AND MARITIME</td>\n",
       "      <td>SPE7L4</td>\n",
       "      <td>2024-02-27 23:28:14.285-05</td>\n",
       "      <td>...</td>\n",
       "      <td>NaN</td>\n",
       "      <td>NaN</td>\n",
       "      <td>OFFICE</td>\n",
       "      <td>OH</td>\n",
       "      <td>COLUMBUS</td>\n",
       "      <td>43218-3990</td>\n",
       "      <td>USA</td>\n",
       "      <td>NaN</td>\n",
       "      <td>https://sam.gov/opp/d67d966ca8884492a7d34b22b0...</td>\n",
       "      <td>NaN</td>\n",
       "    </tr>\n",
       "    <tr>\n",
       "      <th>1</th>\n",
       "      <td>37b4bd89b3ee465f9e9062df2ace47a1</td>\n",
       "      <td>Blood Donor Screening Tests approved by FDA fo...</td>\n",
       "      <td>HT941024Q2024</td>\n",
       "      <td>DEPT OF DEFENSE</td>\n",
       "      <td>97.0</td>\n",
       "      <td>DEFENSE HEALTH AGENCY (DHA)</td>\n",
       "      <td>97DH</td>\n",
       "      <td>DEFENSE HEALTH AGENCY</td>\n",
       "      <td>HT9410</td>\n",
       "      <td>2024-02-27 23:03:36.597-05</td>\n",
       "      <td>...</td>\n",
       "      <td>6195328060</td>\n",
       "      <td>NaN</td>\n",
       "      <td>OFFICE</td>\n",
       "      <td>VA</td>\n",
       "      <td>FALLS CHURCH</td>\n",
       "      <td>22042</td>\n",
       "      <td>USA</td>\n",
       "      <td>NaN</td>\n",
       "      <td>https://sam.gov/opp/37b4bd89b3ee465f9e9062df2a...</td>\n",
       "      <td>A firm fixed price contract was awarded to BLO...</td>\n",
       "    </tr>\n",
       "    <tr>\n",
       "      <th>2</th>\n",
       "      <td>2186dd0e35814d87acd5acde76829214</td>\n",
       "      <td>JRM F&amp;ES Paramedic Education Program</td>\n",
       "      <td>N68246_EMT-P</td>\n",
       "      <td>DEPT OF DEFENSE</td>\n",
       "      <td>17.0</td>\n",
       "      <td>DEPT OF THE NAVY</td>\n",
       "      <td>1700</td>\n",
       "      <td>NAVSUP FLC YOKOSUKA SASEBO OFFICE</td>\n",
       "      <td>N68246</td>\n",
       "      <td>2024-02-27 23:02:26.596-05</td>\n",
       "      <td>...</td>\n",
       "      <td>6713395528</td>\n",
       "      <td>NaN</td>\n",
       "      <td>OFFICE</td>\n",
       "      <td>AP</td>\n",
       "      <td>FPO</td>\n",
       "      <td>96322-1500</td>\n",
       "      <td>USA</td>\n",
       "      <td>NaN</td>\n",
       "      <td>https://sam.gov/opp/2186dd0e35814d87acd5acde76...</td>\n",
       "      <td>SOURCES SOUGHT NOTICE THIS IS NOT A REQUEST FO...</td>\n",
       "    </tr>\n",
       "    <tr>\n",
       "      <th>3</th>\n",
       "      <td>f81e7b7007c44b8ca5eee6b8c10ccc2d</td>\n",
       "      <td>Y--JO SANDHILLS FENCE REBUILD</td>\n",
       "      <td>140L6224Q0009</td>\n",
       "      <td>INTERIOR, DEPARTMENT OF THE</td>\n",
       "      <td>14.0</td>\n",
       "      <td>BUREAU OF LAND MANAGEMENT</td>\n",
       "      <td>1422</td>\n",
       "      <td>WYOMING STATE OFFICE</td>\n",
       "      <td>140L62</td>\n",
       "      <td>2024-02-27 22:56:15.616-05</td>\n",
       "      <td>...</td>\n",
       "      <td>NaN</td>\n",
       "      <td>NaN</td>\n",
       "      <td>OFFICE</td>\n",
       "      <td>WY</td>\n",
       "      <td>CHEYENNE</td>\n",
       "      <td>82009</td>\n",
       "      <td>USA</td>\n",
       "      <td>NaN</td>\n",
       "      <td>https://sam.gov/opp/f81e7b7007c44b8ca5eee6b8c1...</td>\n",
       "      <td>Furnishing materials, labor and equipment, to ...</td>\n",
       "    </tr>\n",
       "    <tr>\n",
       "      <th>4</th>\n",
       "      <td>631576cac6f54eff9ca1cfe78f3a7928</td>\n",
       "      <td>USACE SPK DBB Construction - USDA ARS R and D ...</td>\n",
       "      <td>W9123824R0008</td>\n",
       "      <td>DEPT OF DEFENSE</td>\n",
       "      <td>21.0</td>\n",
       "      <td>DEPT OF THE ARMY</td>\n",
       "      <td>2100</td>\n",
       "      <td>W075 ENDIST SACRAMENTO</td>\n",
       "      <td>W91238</td>\n",
       "      <td>2024-02-27 22:53:27.33-05</td>\n",
       "      <td>...</td>\n",
       "      <td>9165577801</td>\n",
       "      <td>NaN</td>\n",
       "      <td>OFFICE</td>\n",
       "      <td>CA</td>\n",
       "      <td>SACRAMENTO</td>\n",
       "      <td>95814-2922</td>\n",
       "      <td>USA</td>\n",
       "      <td>NaN</td>\n",
       "      <td>https://sam.gov/opp/631576cac6f54eff9ca1cfe78f...</td>\n",
       "      <td>** Amendment 0004 to Solicitation W9123824R000...</td>\n",
       "    </tr>\n",
       "  </tbody>\n",
       "</table>\n",
       "<p>5 rows × 47 columns</p>\n",
       "</div>"
      ],
      "text/plain": [
       "                           NoticeId  \\\n",
       "0  d67d966ca8884492a7d34b22b0a76fec   \n",
       "1  37b4bd89b3ee465f9e9062df2ace47a1   \n",
       "2  2186dd0e35814d87acd5acde76829214   \n",
       "3  f81e7b7007c44b8ca5eee6b8c10ccc2d   \n",
       "4  631576cac6f54eff9ca1cfe78f3a7928   \n",
       "\n",
       "                                               Title           Sol#  \\\n",
       "0                            10--CHUTE ASSEMBLY,AMMU  SPE7L424T3316   \n",
       "1  Blood Donor Screening Tests approved by FDA fo...  HT941024Q2024   \n",
       "2               JRM F&ES Paramedic Education Program   N68246_EMT-P   \n",
       "3                      Y--JO SANDHILLS FENCE REBUILD  140L6224Q0009   \n",
       "4  USACE SPK DBB Construction - USDA ARS R and D ...  W9123824R0008   \n",
       "\n",
       "         Department/Ind.Agency  CGAC                     Sub-Tier FPDS Code  \\\n",
       "0              DEPT OF DEFENSE  97.0     DEFENSE LOGISTICS AGENCY      97AS   \n",
       "1              DEPT OF DEFENSE  97.0  DEFENSE HEALTH AGENCY (DHA)      97DH   \n",
       "2              DEPT OF DEFENSE  17.0             DEPT OF THE NAVY      1700   \n",
       "3  INTERIOR, DEPARTMENT OF THE  14.0    BUREAU OF LAND MANAGEMENT      1422   \n",
       "4              DEPT OF DEFENSE  21.0             DEPT OF THE ARMY      2100   \n",
       "\n",
       "                              Office AAC Code                  PostedDate  \\\n",
       "0              DLA LAND AND MARITIME   SPE7L4  2024-02-27 23:28:14.285-05   \n",
       "1              DEFENSE HEALTH AGENCY   HT9410  2024-02-27 23:03:36.597-05   \n",
       "2  NAVSUP FLC YOKOSUKA SASEBO OFFICE   N68246  2024-02-27 23:02:26.596-05   \n",
       "3               WYOMING STATE OFFICE   140L62  2024-02-27 22:56:15.616-05   \n",
       "4             W075 ENDIST SACRAMENTO   W91238   2024-02-27 22:53:27.33-05   \n",
       "\n",
       "   ... SecondaryContactPhone SecondaryContactFax OrganizationType State  \\\n",
       "0  ...                   NaN                 NaN           OFFICE    OH   \n",
       "1  ...            6195328060                 NaN           OFFICE    VA   \n",
       "2  ...            6713395528                 NaN           OFFICE    AP   \n",
       "3  ...                   NaN                 NaN           OFFICE    WY   \n",
       "4  ...            9165577801                 NaN           OFFICE    CA   \n",
       "\n",
       "           City     ZipCode CountryCode  AdditionalInfoLink  \\\n",
       "0      COLUMBUS  43218-3990         USA                 NaN   \n",
       "1  FALLS CHURCH       22042         USA                 NaN   \n",
       "2           FPO  96322-1500         USA                 NaN   \n",
       "3      CHEYENNE       82009         USA                 NaN   \n",
       "4    SACRAMENTO  95814-2922         USA                 NaN   \n",
       "\n",
       "                                                Link  \\\n",
       "0  https://sam.gov/opp/d67d966ca8884492a7d34b22b0...   \n",
       "1  https://sam.gov/opp/37b4bd89b3ee465f9e9062df2a...   \n",
       "2  https://sam.gov/opp/2186dd0e35814d87acd5acde76...   \n",
       "3  https://sam.gov/opp/f81e7b7007c44b8ca5eee6b8c1...   \n",
       "4  https://sam.gov/opp/631576cac6f54eff9ca1cfe78f...   \n",
       "\n",
       "                                         Description  \n",
       "0                                                NaN  \n",
       "1  A firm fixed price contract was awarded to BLO...  \n",
       "2  SOURCES SOUGHT NOTICE THIS IS NOT A REQUEST FO...  \n",
       "3  Furnishing materials, labor and equipment, to ...  \n",
       "4  ** Amendment 0004 to Solicitation W9123824R000...  \n",
       "\n",
       "[5 rows x 47 columns]"
      ]
     },
     "execution_count": 4,
     "metadata": {},
     "output_type": "execute_result"
    }
   ],
   "source": [
    "df.head()"
   ]
  },
  {
   "cell_type": "code",
   "execution_count": 5,
   "metadata": {},
   "outputs": [
    {
     "data": {
      "text/html": [
       "<div>\n",
       "<style scoped>\n",
       "    .dataframe tbody tr th:only-of-type {\n",
       "        vertical-align: middle;\n",
       "    }\n",
       "\n",
       "    .dataframe tbody tr th {\n",
       "        vertical-align: top;\n",
       "    }\n",
       "\n",
       "    .dataframe thead th {\n",
       "        text-align: right;\n",
       "    }\n",
       "</style>\n",
       "<table border=\"1\" class=\"dataframe\">\n",
       "  <thead>\n",
       "    <tr style=\"text-align: right;\">\n",
       "      <th></th>\n",
       "      <th>CGAC</th>\n",
       "      <th>NaicsCode</th>\n",
       "      <th>AdditionalInfoLink</th>\n",
       "    </tr>\n",
       "  </thead>\n",
       "  <tbody>\n",
       "    <tr>\n",
       "      <th>count</th>\n",
       "      <td>68052.000000</td>\n",
       "      <td>64789.000000</td>\n",
       "      <td>0.0</td>\n",
       "    </tr>\n",
       "    <tr>\n",
       "      <th>mean</th>\n",
       "      <td>48.846632</td>\n",
       "      <td>392946.461714</td>\n",
       "      <td>NaN</td>\n",
       "    </tr>\n",
       "    <tr>\n",
       "      <th>std</th>\n",
       "      <td>36.608503</td>\n",
       "      <td>144820.902550</td>\n",
       "      <td>NaN</td>\n",
       "    </tr>\n",
       "    <tr>\n",
       "      <th>min</th>\n",
       "      <td>0.000000</td>\n",
       "      <td>11.000000</td>\n",
       "      <td>NaN</td>\n",
       "    </tr>\n",
       "    <tr>\n",
       "      <th>25%</th>\n",
       "      <td>17.000000</td>\n",
       "      <td>325412.000000</td>\n",
       "      <td>NaN</td>\n",
       "    </tr>\n",
       "    <tr>\n",
       "      <th>50%</th>\n",
       "      <td>36.000000</td>\n",
       "      <td>335311.000000</td>\n",
       "      <td>NaN</td>\n",
       "    </tr>\n",
       "    <tr>\n",
       "      <th>75%</th>\n",
       "      <td>89.000000</td>\n",
       "      <td>541330.000000</td>\n",
       "      <td>NaN</td>\n",
       "    </tr>\n",
       "    <tr>\n",
       "      <th>max</th>\n",
       "      <td>581.000000</td>\n",
       "      <td>928120.000000</td>\n",
       "      <td>NaN</td>\n",
       "    </tr>\n",
       "  </tbody>\n",
       "</table>\n",
       "</div>"
      ],
      "text/plain": [
       "               CGAC      NaicsCode  AdditionalInfoLink\n",
       "count  68052.000000   64789.000000                 0.0\n",
       "mean      48.846632  392946.461714                 NaN\n",
       "std       36.608503  144820.902550                 NaN\n",
       "min        0.000000      11.000000                 NaN\n",
       "25%       17.000000  325412.000000                 NaN\n",
       "50%       36.000000  335311.000000                 NaN\n",
       "75%       89.000000  541330.000000                 NaN\n",
       "max      581.000000  928120.000000                 NaN"
      ]
     },
     "execution_count": 5,
     "metadata": {},
     "output_type": "execute_result"
    }
   ],
   "source": [
    "df.describe()"
   ]
  },
  {
   "cell_type": "code",
   "execution_count": 6,
   "metadata": {},
   "outputs": [
    {
     "data": {
      "text/plain": [
       "NoticeId                     object\n",
       "Title                        object\n",
       "Sol#                         object\n",
       "Department/Ind.Agency        object\n",
       "CGAC                        float64\n",
       "Sub-Tier                     object\n",
       "FPDS Code                    object\n",
       "Office                       object\n",
       "AAC Code                     object\n",
       "PostedDate                   object\n",
       "Type                         object\n",
       "BaseType                     object\n",
       "ArchiveType                  object\n",
       "ArchiveDate                  object\n",
       "SetASideCode                 object\n",
       "SetASide                     object\n",
       "ResponseDeadLine             object\n",
       "NaicsCode                   float64\n",
       "ClassificationCode           object\n",
       "PopStreetAddress             object\n",
       "PopCity                      object\n",
       "PopState                     object\n",
       "PopZip                       object\n",
       "PopCountry                   object\n",
       "Active                       object\n",
       "AwardNumber                  object\n",
       "AwardDate                    object\n",
       "Award$                       object\n",
       "Awardee                      object\n",
       "PrimaryContactTitle          object\n",
       "PrimaryContactFullname       object\n",
       "PrimaryContactEmail          object\n",
       "PrimaryContactPhone          object\n",
       "PrimaryContactFax            object\n",
       "SecondaryContactTitle        object\n",
       "SecondaryContactFullname     object\n",
       "SecondaryContactEmail        object\n",
       "SecondaryContactPhone        object\n",
       "SecondaryContactFax          object\n",
       "OrganizationType             object\n",
       "State                        object\n",
       "City                         object\n",
       "ZipCode                      object\n",
       "CountryCode                  object\n",
       "AdditionalInfoLink          float64\n",
       "Link                         object\n",
       "Description                  object\n",
       "dtype: object"
      ]
     },
     "execution_count": 6,
     "metadata": {},
     "output_type": "execute_result"
    }
   ],
   "source": [
    "df.dtypes"
   ]
  },
  {
   "cell_type": "code",
   "execution_count": 11,
   "metadata": {},
   "outputs": [
    {
     "data": {
      "text/plain": [
       "'2008-03-05 00:00:00-05'"
      ]
     },
     "execution_count": 11,
     "metadata": {},
     "output_type": "execute_result"
    }
   ],
   "source": [
    "df[\"PostedDate\"].min()"
   ]
  },
  {
   "cell_type": "code",
   "execution_count": 35,
   "metadata": {},
   "outputs": [
    {
     "data": {
      "text/plain": [
       "NoticeId                                     37b4bd89b3ee465f9e9062df2ace47a1\n",
       "Title                       Blood Donor Screening Tests approved by FDA fo...\n",
       "Sol#                                                            HT941024Q2024\n",
       "Department/Ind.Agency                                         DEPT OF DEFENSE\n",
       "CGAC                                                                     97.0\n",
       "Sub-Tier                                          DEFENSE HEALTH AGENCY (DHA)\n",
       "FPDS Code                                                                97DH\n",
       "Office                                                  DEFENSE HEALTH AGENCY\n",
       "AAC Code                                                               HT9410\n",
       "PostedDate                                         2024-02-27 23:03:36.597-05\n",
       "Type                                                             Award Notice\n",
       "BaseType                                       Combined Synopsis/Solicitation\n",
       "ArchiveType                                                            auto15\n",
       "ArchiveDate                                                        2024-03-13\n",
       "SetASideCode                                                              NaN\n",
       "SetASide                                                                  NaN\n",
       "ResponseDeadLine                                                          NaN\n",
       "NaicsCode                                                            325413.0\n",
       "ClassificationCode                                                       6550\n",
       "PopStreetAddress                                                          NaN\n",
       "PopCity                                                                   NaN\n",
       "PopState                                                                  NaN\n",
       "PopZip                                                                    NaN\n",
       "PopCountry                                                                JPN\n",
       "Active                                                                    Yes\n",
       "AwardNumber                                                     HT941024P0103\n",
       "AwardDate                                                          2024-02-27\n",
       "Award$                                                              2482404.0\n",
       "Awardee                                       BLOODWORKS Seattle WA 98104 USA\n",
       "PrimaryContactTitle                                                       NaN\n",
       "PrimaryContactFullname                                          Adrian Nerida\n",
       "PrimaryContactEmail                            adrian.m.nerida.civ@health.mil\n",
       "PrimaryContactPhone                                                6197231493\n",
       "PrimaryContactFax                                                         NaN\n",
       "SecondaryContactTitle                                                     NaN\n",
       "SecondaryContactFullname                                          Pedro Reyes\n",
       "SecondaryContactEmail                          pedro.a.reyes10.civ@health.mil\n",
       "SecondaryContactPhone                                              6195328060\n",
       "SecondaryContactFax                                                       NaN\n",
       "OrganizationType                                                       OFFICE\n",
       "State                                                                      VA\n",
       "City                                                             FALLS CHURCH\n",
       "ZipCode                                                                 22042\n",
       "CountryCode                                                               USA\n",
       "AdditionalInfoLink                                                        NaN\n",
       "Link                        https://sam.gov/opp/37b4bd89b3ee465f9e9062df2a...\n",
       "Description                 A firm fixed price contract was awarded to BLO...\n",
       "Name: 1, dtype: object"
      ]
     },
     "execution_count": 35,
     "metadata": {},
     "output_type": "execute_result"
    }
   ],
   "source": [
    "first_non_null_description_row = df[\"Description\"].first_valid_index()\n",
    "df.loc[first_non_null_description_row]"
   ]
  },
  {
   "cell_type": "code",
   "execution_count": 31,
   "metadata": {},
   "outputs": [
    {
     "data": {
      "text/plain": [
       "'A firm fixed price contract was awarded to BLOODWORKS for Blood Donor Screening Tests on 27 FEBRUARY 2024. Total Contract value is $2,482,404.00.'"
      ]
     },
     "execution_count": 31,
     "metadata": {},
     "output_type": "execute_result"
    }
   ],
   "source": [
    "df[\"Description\"].loc[first_non_null_description_row]"
   ]
  },
  {
   "cell_type": "code",
   "execution_count": 32,
   "metadata": {},
   "outputs": [
    {
     "data": {
      "text/plain": [
       "'https://sam.gov/opp/37b4bd89b3ee465f9e9062df2ace47a1/view'"
      ]
     },
     "execution_count": 32,
     "metadata": {},
     "output_type": "execute_result"
    }
   ],
   "source": [
    "df[\"Link\"].loc[first_non_null_description_row]"
   ]
  },
  {
   "cell_type": "code",
   "execution_count": 33,
   "metadata": {},
   "outputs": [
    {
     "data": {
      "text/plain": [
       "nan"
      ]
     },
     "execution_count": 33,
     "metadata": {},
     "output_type": "execute_result"
    }
   ],
   "source": [
    "df[\"AdditionalInfoLink\"].loc[first_non_null_description_row]"
   ]
  },
  {
   "cell_type": "markdown",
   "metadata": {},
   "source": [
    "***"
   ]
  },
  {
   "cell_type": "code",
   "execution_count": null,
   "metadata": {},
   "outputs": [],
   "source": [
    "df"
   ]
  },
  {
   "cell_type": "code",
   "execution_count": 7,
   "metadata": {},
   "outputs": [
    {
     "data": {
      "text/plain": [
       "0           SPE7L424T3316\n",
       "1           HT941024Q2024\n",
       "2            N68246_EMT-P\n",
       "3           140L6224Q0009\n",
       "4           W9123824R0008\n",
       "               ...       \n",
       "69245    W91278-08-B-0004\n",
       "69246    W91278-08-B-0004\n",
       "69247    W91236-08-B-0003\n",
       "69248       W911WN08B0001\n",
       "69249       W912BU08B0003\n",
       "Name: Sol#, Length: 69250, dtype: object"
      ]
     },
     "execution_count": 7,
     "metadata": {},
     "output_type": "execute_result"
    }
   ],
   "source": [
    "df[\"Sol#\"]"
   ]
  },
  {
   "cell_type": "code",
   "execution_count": 15,
   "metadata": {},
   "outputs": [
    {
     "data": {
      "text/html": [
       "<div>\n",
       "<style scoped>\n",
       "    .dataframe tbody tr th:only-of-type {\n",
       "        vertical-align: middle;\n",
       "    }\n",
       "\n",
       "    .dataframe tbody tr th {\n",
       "        vertical-align: top;\n",
       "    }\n",
       "\n",
       "    .dataframe thead th {\n",
       "        text-align: right;\n",
       "    }\n",
       "</style>\n",
       "<table border=\"1\" class=\"dataframe\">\n",
       "  <thead>\n",
       "    <tr style=\"text-align: right;\">\n",
       "      <th></th>\n",
       "      <th>NoticeId</th>\n",
       "      <th>Title</th>\n",
       "      <th>Sol#</th>\n",
       "      <th>Department/Ind.Agency</th>\n",
       "      <th>CGAC</th>\n",
       "      <th>Sub-Tier</th>\n",
       "      <th>FPDS Code</th>\n",
       "      <th>Office</th>\n",
       "      <th>AAC Code</th>\n",
       "      <th>PostedDate</th>\n",
       "      <th>...</th>\n",
       "      <th>SecondaryContactPhone</th>\n",
       "      <th>SecondaryContactFax</th>\n",
       "      <th>OrganizationType</th>\n",
       "      <th>State</th>\n",
       "      <th>City</th>\n",
       "      <th>ZipCode</th>\n",
       "      <th>CountryCode</th>\n",
       "      <th>AdditionalInfoLink</th>\n",
       "      <th>Link</th>\n",
       "      <th>Description</th>\n",
       "    </tr>\n",
       "  </thead>\n",
       "  <tbody>\n",
       "  </tbody>\n",
       "</table>\n",
       "<p>0 rows × 47 columns</p>\n",
       "</div>"
      ],
      "text/plain": [
       "Empty DataFrame\n",
       "Columns: [NoticeId, Title, Sol#, Department/Ind.Agency, CGAC, Sub-Tier, FPDS Code, Office, AAC Code, PostedDate, Type, BaseType, ArchiveType, ArchiveDate, SetASideCode, SetASide, ResponseDeadLine, NaicsCode, ClassificationCode, PopStreetAddress, PopCity, PopState, PopZip, PopCountry, Active, AwardNumber, AwardDate, Award$, Awardee, PrimaryContactTitle, PrimaryContactFullname, PrimaryContactEmail, PrimaryContactPhone, PrimaryContactFax, SecondaryContactTitle, SecondaryContactFullname, SecondaryContactEmail, SecondaryContactPhone, SecondaryContactFax, OrganizationType, State, City, ZipCode, CountryCode, AdditionalInfoLink, Link, Description]\n",
       "Index: []\n",
       "\n",
       "[0 rows x 47 columns]"
      ]
     },
     "execution_count": 15,
     "metadata": {},
     "output_type": "execute_result"
    }
   ],
   "source": [
    "df.loc[(df[\"Sol#\"] == '36C26322Q0267')]"
   ]
  },
  {
   "cell_type": "code",
   "execution_count": null,
   "metadata": {},
   "outputs": [],
   "source": []
  }
 ],
 "metadata": {
  "kernelspec": {
   "display_name": ".venv",
   "language": "python",
   "name": "python3"
  },
  "language_info": {
   "codemirror_mode": {
    "name": "ipython",
    "version": 3
   },
   "file_extension": ".py",
   "mimetype": "text/x-python",
   "name": "python",
   "nbconvert_exporter": "python",
   "pygments_lexer": "ipython3",
   "version": "3.10.12"
  }
 },
 "nbformat": 4,
 "nbformat_minor": 2
}
