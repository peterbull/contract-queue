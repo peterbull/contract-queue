{
 "cells": [
  {
   "cell_type": "code",
   "execution_count": 1,
   "metadata": {},
   "outputs": [],
   "source": [
    "from dotenv import load_dotenv\n",
    "import os\n",
    "import requests\n",
    "import json\n",
    "import re\n",
    "import fitz\n",
    "import magic\n",
    "import pandas as pd\n",
    "from io import BytesIO\n",
    "import pendulum\n",
    "import boto3"
   ]
  },
  {
   "cell_type": "code",
   "execution_count": 2,
   "metadata": {},
   "outputs": [],
   "source": [
    "load_dotenv()\n",
    "SAM_PUBLIC_API_KEY = os.environ.get(\"SAM_PUBLIC_API_KEY\")\n",
    "S3_AWS_ACCESS_KEY_ID = os.environ.get(\"S3_AWS_ACCESS_KEY_ID\")\n",
    "S3_AWS_SECRET_ACCESS_KEY = os.environ.get(\"S3_AWS_SECRET_ACCESS_KEY\")\n",
    "S3_REGION_NAME = os.environ.get(\"S3_REGION_NAME\")\n",
    "S3_BUCKET_OPPORTUNITIES = os.environ.get(\"S3_BUCKET_OPPORTUNITIES\")"
   ]
  },
  {
   "cell_type": "code",
   "execution_count": 3,
   "metadata": {},
   "outputs": [],
   "source": [
    "previous_date = pendulum.now('utc').subtract(days=1).strftime('%Y%m%d')\n",
    "formattted_request_date = pendulum.parse(previous_date, strict=False).format('MM/DD/YYYY')\n",
    "base_url = \"https://api.sam.gov/opportunities/v2/search\""
   ]
  },
  {
   "cell_type": "markdown",
   "metadata": {},
   "source": [
    "Check for hitting API Limit(10/day)"
   ]
  },
  {
   "cell_type": "code",
   "execution_count": 4,
   "metadata": {},
   "outputs": [
    {
     "data": {
      "text/plain": [
       "<Response [429]>"
      ]
     },
     "execution_count": 4,
     "metadata": {},
     "output_type": "execute_result"
    }
   ],
   "source": [
    "# res = requests.get(f\"https://api.sam.gov/opportunities/v2/search?api_key={SAM_PUBLIC_API_KEY}&postedFrom=01/01/2024&postedTo=12/31/2024&ptype=k&limit=1000\")\n",
    "# res"
   ]
  },
  {
   "cell_type": "code",
   "execution_count": 5,
   "metadata": {},
   "outputs": [
    {
     "data": {
      "text/plain": [
       "{'error': {'code': 'OVER_RATE_LIMIT',\n",
       "  'message': 'The API key has exceeded the rate limits.'}}"
      ]
     },
     "execution_count": 5,
     "metadata": {},
     "output_type": "execute_result"
    }
   ],
   "source": [
    "res.json()"
   ]
  },
  {
   "cell_type": "markdown",
   "metadata": {},
   "source": [
    "Import prior day data from S3"
   ]
  },
  {
   "cell_type": "code",
   "execution_count": 6,
   "metadata": {},
   "outputs": [],
   "source": [
    "s3_client = boto3.client(\n",
    "    \"s3\",\n",
    "    region_name=S3_REGION_NAME,\n",
    "    aws_access_key_id=S3_AWS_ACCESS_KEY_ID,\n",
    "    aws_secret_access_key=S3_AWS_SECRET_ACCESS_KEY,\n",
    ")\n",
    "bucket_name = S3_BUCKET_OPPORTUNITIES\n",
    "file_name = f\"daily-opportunity-posts/{previous_date}.json\""
   ]
  },
  {
   "cell_type": "code",
   "execution_count": 7,
   "metadata": {},
   "outputs": [],
   "source": [
    "s3_response = s3_client.get_object(Bucket=bucket_name, Key=file_name)\n",
    "s3_response = s3_response['Body'].read().decode('utf-8')\n",
    "data = json.loads(s3_response)"
   ]
  },
  {
   "cell_type": "code",
   "execution_count": 18,
   "metadata": {},
   "outputs": [],
   "source": [
    "data_path = f'./data/{previous_date}.json'\n",
    "if not os.path.exists(data_path):\n",
    "    with open(data_path, 'w') as f:\n",
    "        json.dump(data, f, indent=4)"
   ]
  },
  {
   "cell_type": "code",
   "execution_count": 8,
   "metadata": {},
   "outputs": [
    {
     "data": {
      "text/plain": [
       "{'noticeId': 'ff75c5fa02564937950a05713afcd835',\n",
       " 'title': '1202RZ22Q0002 - I-BPA (Incident-Blanket Purchase Agreement) – Portable Toilets and Handwashing Stations',\n",
       " 'solicitationNumber': '1202RZ22Q0002',\n",
       " 'fullParentPathName': 'AGRICULTURE, DEPARTMENT OF.FOREST SERVICE.USDA-FS, AT-INCIDENT MGT SVCS BRANCH',\n",
       " 'fullParentPathCode': '012.12C2.1202RZ',\n",
       " 'postedDate': '2024-03-01',\n",
       " 'type': 'Solicitation',\n",
       " 'baseType': 'Solicitation',\n",
       " 'archiveType': 'auto15',\n",
       " 'archiveDate': '2024-03-19',\n",
       " 'typeOfSetAsideDescription': 'Total Small Business Set-Aside (FAR 19.5)',\n",
       " 'typeOfSetAside': 'SBA',\n",
       " 'responseDeadLine': '2024-03-04T13:00:00-07:00',\n",
       " 'naicsCode': '562991',\n",
       " 'naicsCodes': ['562991'],\n",
       " 'classificationCode': 'W045',\n",
       " 'active': 'Yes',\n",
       " 'award': None,\n",
       " 'pointOfContact': [{'fax': None,\n",
       "   'type': 'primary',\n",
       "   'email': 'Kenneth.C.Miller@USDA.gov',\n",
       "   'phone': '385-441-2764',\n",
       "   'title': None,\n",
       "   'fullName': 'Kenneth Miller'},\n",
       "  {'fax': None,\n",
       "   'type': 'secondary',\n",
       "   'email': 'Donald.Keever@USDA.gov',\n",
       "   'phone': '505-252-4804',\n",
       "   'title': None,\n",
       "   'fullName': 'Donald Keever'}],\n",
       " 'description': 'https://api.sam.gov/prod/opportunities/v1/noticedesc?noticeid=ff75c5fa02564937950a05713afcd835',\n",
       " 'organizationType': 'OFFICE',\n",
       " 'officeAddress': {'zipcode': '837055354',\n",
       "  'city': 'Boise',\n",
       "  'countryCode': 'USA',\n",
       "  'state': 'ID'},\n",
       " 'placeOfPerformance': {'city': {'code': '43000', 'name': 'Lakewood'},\n",
       "  'state': {'code': 'CO', 'name': 'Colorado'},\n",
       "  'country': {'code': 'USA', 'name': 'UNITED STATES'}},\n",
       " 'additionalInfoLink': None,\n",
       " 'uiLink': 'https://sam.gov/opp/ff75c5fa02564937950a05713afcd835/view',\n",
       " 'links': [{'rel': 'self',\n",
       "   'href': 'https://api.sam.gov/prod/opportunities/v2/search?noticeid=ff75c5fa02564937950a05713afcd835&limit=1'}],\n",
       " 'resourceLinks': ['https://sam.gov/api/prod/opps/v3/opportunities/resources/files/4e83d608f65e41caad25329eb99d2c55/download?api_key=null&token=',\n",
       "  'https://sam.gov/api/prod/opps/v3/opportunities/resources/files/9b1d92bcc9ce473698700d73b1e30fd2/download?api_key=null&token=']}"
      ]
     },
     "execution_count": 8,
     "metadata": {},
     "output_type": "execute_result"
    }
   ],
   "source": [
    "data[0]"
   ]
  },
  {
   "cell_type": "code",
   "execution_count": 9,
   "metadata": {},
   "outputs": [],
   "source": [
    "params = {\n",
    "    \"api_key\": SAM_PUBLIC_API_KEY,\n",
    "}\n"
   ]
  },
  {
   "cell_type": "markdown",
   "metadata": {},
   "source": [
    "Description data counts towards rate limit"
   ]
  },
  {
   "cell_type": "code",
   "execution_count": 13,
   "metadata": {},
   "outputs": [],
   "source": [
    "\n",
    "# description_data = requests.get(data[0][\"description\"], params=params)"
   ]
  },
  {
   "cell_type": "markdown",
   "metadata": {},
   "source": [
    "Resource Data does NOT count towards rate limit. It has a different url base as well"
   ]
  },
  {
   "cell_type": "code",
   "execution_count": 16,
   "metadata": {},
   "outputs": [
    {
     "data": {
      "text/plain": [
       "<Response [200]>"
      ]
     },
     "execution_count": 16,
     "metadata": {},
     "output_type": "execute_result"
    }
   ],
   "source": [
    "resource_data = requests.get(data[0]['resourceLinks'][0], params=params)\n",
    "resource_data"
   ]
  },
  {
   "cell_type": "code",
   "execution_count": null,
   "metadata": {},
   "outputs": [],
   "source": []
  }
 ],
 "metadata": {
  "kernelspec": {
   "display_name": ".venv",
   "language": "python",
   "name": "python3"
  },
  "language_info": {
   "codemirror_mode": {
    "name": "ipython",
    "version": 3
   },
   "file_extension": ".py",
   "mimetype": "text/x-python",
   "name": "python",
   "nbconvert_exporter": "python",
   "pygments_lexer": "ipython3",
   "version": "3.10.12"
  }
 },
 "nbformat": 4,
 "nbformat_minor": 2
}
