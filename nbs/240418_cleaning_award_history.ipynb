{
 "cells": [
  {
   "cell_type": "code",
   "execution_count": 1,
   "metadata": {},
   "outputs": [],
   "source": [
    "import requests\n",
    "import numpy as np\n",
    "import pandas as pd\n",
    "import csv"
   ]
  },
  {
   "cell_type": "code",
   "execution_count": 2,
   "metadata": {},
   "outputs": [
    {
     "name": "stdout",
     "output_type": "stream",
     "text": [
      "\"NoticeId\",\"Title\",\"Sol#\",\"Department/Ind.Agency\",\"CGAC\",\"Sub-Tier\",\"FPDS Code\",\"Office\",\"AAC Code\",\"PostedDate\",\"Type\",\"BaseType\",\"ArchiveType\",\"ArchiveDate\",\"SetASideCode\",\"SetASide\",\"ResponseDeadLine\",\"NaicsCode\",\"ClassificationCode\",\"PopStreetAddress\",\"PopCity\",\"PopState\",\"PopZip\",\"PopCountry\",\"Active\",\"AwardNumber\",\"AwardDate\",\"Award$\",\"Awardee\",\"PrimaryContactTitle\",\"PrimaryContactFullname\",\"PrimaryContactEmail\",\"PrimaryContactPhone\",\"PrimaryContactFax\",\"SecondaryContactTitle\",\"SecondaryContactFullname\",\"SecondaryContactEmail\",\"SecondaryContactPhone\",\"SecondaryContactFax\",\"OrganizationType\",\"State\",\"City\",\"ZipCode\",\"CountryCode\",\"AdditionalInfoLink\",\"Link\",\"Description\"\n",
      "\"1197781f02574d8eba56efda3e7a62a9\",\"30 SFS Cold Weather Gear- Vandenberg SFB, CA\",\"FA461023P0125\",\"DEPT OF DEFENSE\",\"057\",\"DEPT OF THE AIR FORCE\",\"5700\",\"FA4610  30 CONS PK\",\"FA4610\",\"2023-09-30 23:56:44.565-04\",\"Award Notice\",\"Combined Synopsis/Solicitation\",\"auto15\",\"2023-10-15\",\"SBA\",\"Total Small Business Set-Aside (FAR 19.5)\",\"\",\"315990\",\"8415\",\"\",\"Ann Arbor\",\"MI\",\"48108\",\"USA\",\"No\",\"FA461023P0125\",\"2023-09-30\",\"220755.00\",\"Inventory Management Solutions Ann Arbor MI 48108 USA\",\"\",\"Nisa Oh\",\"nisa.oh@spaceforce.mil\",\"\",\"\",\"\",\"\",\"\",\"\",\"\",\"OFFICE\",\"CA\",\"VANDENBERG SFB\",\"93437-5212\",\"USA\",\"\",\"https://sam.gov/opp/1197781f02574d8eba56efda3e7a62a9/view\",\"\"\n",
      "\"cd77d39dc75f4899b019721492097439\",\"BioFlash Biothreat Detector Customization\",\"HQ003423C0144\",\"DEPT OF DEFENSE\",\"097\",\"WASHINGTON HEADQUARTERS SERVICES (WHS)\",\"97F5\",\"WASHINGTON HEADQUARTERS SERVICES\",\"HQ0034\",\"2023-09-30 23:07:36.23-04\",\"Award Notice\",\"Special Notice\",\"auto15\",\"2023-10-15\",\"\",\"\",\"\",\"334519\",\"6550\",\"\",\"\",\"\",\"\",\"\",\"No\",\"HQ003423C0144\",\"2023-09-30\",\"12826213.84\",\"SMITHS DETECTION INC. Edgewood MD 21040 USA\",\"\",\"\",\"\",\"\",\"\",\"\",\"\",\"\",\"\",\"\",\"OFFICE\",\"DC\",\"WASHINGTON\",\"203011000\",\"USA\",\"\",\"https://sam.gov/opp/cd77d39dc75f4899b019721492097439/view\",\"This Labor-Hour (LH) and Time-and-Materials (T&M) contract was awarded to Smiths Detection, Inc. on a sole source basis in accordance with the provisions of 10 U.S.C. � 2304 (c)(1) and FAR 6.302-1, Only one responsible source and no other supplies or services will satisfy agency requirements.\"\n",
      "\"b3265b800c4a48a4ba837e5f62bcd4da\",\"89--FCI Greenville - FY24 Dairy Requirements\",\"1151455\",\"JUSTICE, DEPARTMENT OF\",\"015\",\"FEDERAL PRISON SYSTEM / BUREAU OF PRISONS\",\"1540\",\"FCI GREENVILLE\",\"15B407\",\"2023-09-30 22:24:10.397-04\",\"Award Notice\",\"Combined Synopsis/Solicitation\",\"autocustom\",\"2024-03-28\",\"\",\"\",\"\",\"\",\"8910\",\"\",\"\",\"\",\"\",\"\",\"No\",\"15B40723P00000099\",\"2023-09-30\",\"142342.52\",\"PRAIRIE FARMS DAIRY, INC. [UEI: ZKNQJ6LPFLJ7],Prairie Farms Dairy,Olney IL 62450 \",\"\",\"Name: Marketplace Support, Title: Marketplace Support, Phone: 1.877.933.3243, Email: MarketplaceSupport@unisonglobal.com;\",\"marketplacesupport@unisonglobal.com\",\"\",\"\",\"\",\"\",\"\",\"\",\"\",\"OFFICE\",\"IL\",\"GREENVILLE\",\"62246\",\"USA\",\"\",\"https://sam.gov/opp/b3265b800c4a48a4ba837e5f62bcd4da/view\",\"Award Notice\"\n",
      "\"9d125b6d5f954ec6be67b26b384647d0\",\"89--Original Buy# 1151413 FCI Greenville - Q1 FY24 Subsistence/Religious Menu\",\"1151413\",\"JUSTICE, DEPARTMENT OF\",\"015\",\"FEDERAL PRISON SYSTEM / BUREAU OF PRISONS\",\"1540\",\"FCI GREENVILLE\",\"15B407\",\"2023-09-30 22:23:36.762-04\",\"Award Notice\",\"Combined Synopsis/Solicitation\",\"autocustom\",\"2024-03-28\",\"\",\"\",\"\",\"\",\"8945\",\"\",\"\",\"\",\"\",\"\",\"No\",\"15B40723P00000097\",\"2023-09-30\",\"10823.72\",\"L A FOODS LLC [UEI: N12JJJ4JEK67],5115 Clareton Drive Suite 200.,Agoura Hills CA 91301 \",\"\",\"Name: Marketplace Support, Title: Marketplace Support, Phone: 1.877.933.3243, Email: MarketplaceSupport@unisonglobal.com;\",\"marketplacesupport@unisonglobal.com\",\"\",\"\",\"\",\"\",\"\",\"\",\"\",\"OFFICE\",\"IL\",\"GREENVILLE\",\"62246\",\"USA\",\"\",\"https://sam.gov/opp/9d125b6d5f954ec6be67b26b384647d0/view\",\"Award Notice\"\n",
      "\"789b7594f97547ae87ca25678819b86b\",\"89--FCI Greenville - Q1 FY24 Subsistence/Religious Menu\",\"1151413\",\"JUSTICE, DEPARTMENT OF\",\"015\",\"FEDERAL PRISON SYSTEM / BUREAU OF PRISONS\",\"1540\",\"FCI GREENVILLE\",\"15B407\",\"2023-09-30 22:22:12.264-04\",\"Award Notice\",\"Combined Synopsis/Solicitation\",\"autocustom\",\"2024-03-28\",\"\",\"\",\"\",\"\",\"8945\",\"\",\"\",\"\",\"\",\"\",\"No\",\"15B40723P00000096\",\"2023-09-30\",\"60097.44\",\"SHAVER FOODS, LLC [UEI: KZ6RQ2GPDXG3],1367 S BEECHWOOD AVE,FAYETTEVILLE AR 72701-6237 \",\"\",\"Name: Marketplace Support, Title: Marketplace Support, Phone: 1.877.933.3243, Email: MarketplaceSupport@unisonglobal.com;\",\"marketplacesupport@unisonglobal.com\",\"\",\"\",\"\",\"\",\"\",\"\",\"\",\"OFFICE\",\"IL\",\"GREENVILLE\",\"62246\",\"USA\",\"\",\"https://sam.gov/opp/789b7594f97547ae87ca25678819b86b/view\",\"Award Notice\"\n",
      "\"991cfb42697546e9becbc97974921d30\",\"CANARY Reagents, Supplies, Maintenance, and Biothreat Detectors\",\"HQ003423D0039\",\"DEPT OF DEFENSE\",\"097\",\"WASHINGTON HEADQUARTERS SERVICES (WHS)\",\"97F5\",\"WASHINGTON HEADQUARTERS SERVICES\",\"HQ0034\",\"2023-09-30 22:21:30.035-04\",\"Award Notice\",\"Special Notice\",\"auto15\",\"2023-10-15\",\"\",\"\",\"\",\"334519\",\"6550\",\"\",\"\",\"\",\"\",\"\",\"No\",\"HQ003423D0039\",\"2023-09-30\",\"8000000.00\",\"SMITHS DETECTION INC. Edgewood MD 21040 USA\",\"\",\"\",\"\",\"\",\"\",\"\",\"\",\"\",\"\",\"\",\"OFFICE\",\"DC\",\"WASHINGTON\",\"203011000\",\"USA\",\"\",\"https://sam.gov/opp/991cfb42697546e9becbc97974921d30/view\",\"This firm-fixed-price, indefinite-delivery/indefinite quantity contract was awarded on a sole source basis to Smiths Detection Inc. in accordance with�10 U.S.C. � 2304 (c)(1) and Federal Acquisition Regulation (FAR) 6.302-1, Only one responsible source�and no other supplies or services will satisfy agency requirements.\"\n",
      "\"ec084ee9f8cf4276bb69cd1874693b72\",\"89--FCC OAKDALE - Q1 FY24 Bread\",\"1152149\",\"JUSTICE, DEPARTMENT OF\",\"015\",\"FEDERAL PRISON SYSTEM / BUREAU OF PRISONS\",\"1540\",\"FCC OAKDALE\",\"15B518\",\"2023-09-30 22:20:13.328-04\",\"Award Notice\",\"Combined Synopsis/Solicitation\",\"autocustom\",\"2024-03-28\",\"\",\"\",\"\",\"\",\"8920\",\"\",\"\",\"\",\"\",\"\",\"No\",\"15B51823P00000150\",\"2023-09-30\",\"96672.72\",\"EAST BAKING COMPANY [UEI: K5JVALD3MH36],104 Whiting Farms Road,Holyoke MA 01040 \",\"\",\"Name: Marketplace Support, Title: Marketplace Support, Phone: 1.877.933.3243, Email: MarketplaceSupport@unisonglobal.com;\",\"marketplacesupport@unisonglobal.com\",\"\",\"\",\"\",\"\",\"\",\"\",\"\",\"OFFICE\",\"LA\",\"OAKDALE\",\"71463\",\"USA\",\"\",\"https://sam.gov/opp/ec084ee9f8cf4276bb69cd1874693b72/view\",\"Award Notice\"\n",
      "\"979cc490df8e4d408c0b625f7388340b\",\"89--FCC OAKDALE - Q1 FY24 Milk\",\"1152152\",\"JUSTICE, DEPARTMENT OF\",\"015\",\"FEDERAL PRISON SYSTEM / BUREAU OF PRISONS\",\"1540\",\"FCC OAKDALE\",\"15B518\",\"2023-09-30 22:19:39.299-04\",\"Award Notice\",\"Combined Synopsis/Solicitation\",\"autocustom\",\"2024-03-28\",\"\",\"\",\"\",\"\",\"8910\",\"\",\"\",\"\",\"\",\"\",\"No\",\"15B51823P00000151\",\"2023-09-30\",\"90378.92\",\"BASSETT DAIRY PRODUCTS INC DBA BASSETT'S DAIRY [UEI: JYCPGJMUBZR7],680 INDUSTRIAL PARK DR,PERRY FL 32348-0940 \",\"\",\"Name: Marketplace Support, Title: Marketplace Support, Phone: 1.877.933.3243, Email: MarketplaceSupport@unisonglobal.com;\",\"marketplacesupport@unisonglobal.com\",\"\",\"\",\"\",\"\",\"\",\"\",\"\",\"OFFICE\",\"LA\",\"OAKDALE\",\"71463\",\"USA\",\"\",\"https://sam.gov/opp/979cc490df8e4d408c0b625f7388340b/view\",\"Award Notice\"\n",
      "\"417da87cad174888b0b2a325c05c61ce\",\"59--USCG GENERATOR MANUAL TRANSFER SWITCH CONNECTION\",\"93313Q230000053\",\"HOMELAND SECURITY, DEPARTMENT OF\",\"070\",\"US COAST GUARD\",\"7008\",\"DOL-9\",\"70Z084\",\"2023-09-30 21:45:59.743-04\",\"Award Notice\",\"Combined Synopsis/Solicitation\",\"autocustom\",\"2024-03-28\",\"\",\"\",\"\",\"\",\"5999\",\"\",\"\",\"\",\"\",\"\",\"No\",\"70Z08423PBOST0005\",\"2023-09-30\",\"17000.00\",\"SOUTH SHORE GENERATOR SERVICE, INC. [UEI: CS7MGEZFEY37],2696A CRANBERRY HWY,Wareham MA 02571-1040 \",\"\",\"Name: Marketplace Support, Title: Marketplace Support, Phone: 1.877.933.3243, Email: MarketplaceSupport@unisonglobal.com;\",\"marketplacesupport@unisonglobal.com\",\"\",\"\",\"\",\"\",\"\",\"\",\"\",\"OFFICE\",\"VA\",\"NORFOLK\",\"23510\",\"USA\",\"\",\"https://sam.gov/opp/417da87cad174888b0b2a325c05c61ce/view\",\"Award Notice\"\n"
     ]
    }
   ],
   "source": [
    "!head -n 10 ./data/FY2023_archived_opportunities.csv"
   ]
  },
  {
   "cell_type": "code",
   "execution_count": 3,
   "metadata": {},
   "outputs": [
    {
     "ename": "ParserError",
     "evalue": "Error tokenizing data. C error: EOF inside string starting at row 200453",
     "output_type": "error",
     "traceback": [
      "\u001b[0;31m---------------------------------------------------------------------------\u001b[0m",
      "\u001b[0;31mParserError\u001b[0m                               Traceback (most recent call last)",
      "Cell \u001b[0;32mIn[3], line 1\u001b[0m\n\u001b[0;32m----> 1\u001b[0m \u001b[43mpd\u001b[49m\u001b[38;5;241;43m.\u001b[39;49m\u001b[43mread_csv\u001b[49m\u001b[43m(\u001b[49m\n\u001b[1;32m      2\u001b[0m \u001b[43m    \u001b[49m\u001b[38;5;124;43m\"\u001b[39;49m\u001b[38;5;124;43m./data/FY2023_archived_opportunities.csv\u001b[39;49m\u001b[38;5;124;43m\"\u001b[39;49m\u001b[43m,\u001b[49m\n\u001b[1;32m      3\u001b[0m \u001b[43m    \u001b[49m\u001b[43mencoding\u001b[49m\u001b[38;5;241;43m=\u001b[39;49m\u001b[38;5;124;43m\"\u001b[39;49m\u001b[38;5;124;43mlatin1\u001b[39;49m\u001b[38;5;124;43m\"\u001b[39;49m\u001b[43m,\u001b[49m\n\u001b[1;32m      4\u001b[0m \u001b[43m    \u001b[49m\u001b[38;5;66;43;03m# quoting=csv.QUOTE_NONE,\u001b[39;49;00m\n\u001b[1;32m      5\u001b[0m \u001b[43m    \u001b[49m\u001b[43mdelimiter\u001b[49m\u001b[38;5;241;43m=\u001b[39;49m\u001b[38;5;124;43m'\u001b[39;49m\u001b[38;5;124;43m,\u001b[39;49m\u001b[38;5;124;43m'\u001b[39;49m\u001b[43m,\u001b[49m\n\u001b[1;32m      6\u001b[0m \u001b[43m    \u001b[49m\u001b[43mparse_dates\u001b[49m\u001b[38;5;241;43m=\u001b[39;49m\u001b[43m[\u001b[49m\u001b[38;5;124;43m'\u001b[39;49m\u001b[38;5;124;43mPostedDate\u001b[39;49m\u001b[38;5;124;43m'\u001b[39;49m\u001b[43m,\u001b[49m\u001b[43m \u001b[49m\u001b[38;5;124;43m'\u001b[39;49m\u001b[38;5;124;43mArchiveDate\u001b[39;49m\u001b[38;5;124;43m'\u001b[39;49m\u001b[43m,\u001b[49m\u001b[43m \u001b[49m\u001b[38;5;124;43m'\u001b[39;49m\u001b[38;5;124;43mAwardDate\u001b[39;49m\u001b[38;5;124;43m'\u001b[39;49m\u001b[43m]\u001b[49m\u001b[43m,\u001b[49m\n\u001b[1;32m      7\u001b[0m \u001b[43m    \u001b[49m\u001b[38;5;66;43;03m# on_bad_lines=\"skip\",\u001b[39;49;00m\n\u001b[1;32m      8\u001b[0m \u001b[43m    \u001b[49m\u001b[43mquotechar\u001b[49m\u001b[38;5;241;43m=\u001b[39;49m\u001b[38;5;124;43m'\u001b[39;49m\u001b[38;5;124;43m\"\u001b[39;49m\u001b[38;5;124;43m'\u001b[39;49m\u001b[43m,\u001b[49m\n\u001b[1;32m      9\u001b[0m \u001b[43m)\u001b[49m\n",
      "File \u001b[0;32m~/peter-projects/contract-queue/.venv/lib/python3.10/site-packages/pandas/io/parsers/readers.py:948\u001b[0m, in \u001b[0;36mread_csv\u001b[0;34m(filepath_or_buffer, sep, delimiter, header, names, index_col, usecols, dtype, engine, converters, true_values, false_values, skipinitialspace, skiprows, skipfooter, nrows, na_values, keep_default_na, na_filter, verbose, skip_blank_lines, parse_dates, infer_datetime_format, keep_date_col, date_parser, date_format, dayfirst, cache_dates, iterator, chunksize, compression, thousands, decimal, lineterminator, quotechar, quoting, doublequote, escapechar, comment, encoding, encoding_errors, dialect, on_bad_lines, delim_whitespace, low_memory, memory_map, float_precision, storage_options, dtype_backend)\u001b[0m\n\u001b[1;32m    935\u001b[0m kwds_defaults \u001b[38;5;241m=\u001b[39m _refine_defaults_read(\n\u001b[1;32m    936\u001b[0m     dialect,\n\u001b[1;32m    937\u001b[0m     delimiter,\n\u001b[0;32m   (...)\u001b[0m\n\u001b[1;32m    944\u001b[0m     dtype_backend\u001b[38;5;241m=\u001b[39mdtype_backend,\n\u001b[1;32m    945\u001b[0m )\n\u001b[1;32m    946\u001b[0m kwds\u001b[38;5;241m.\u001b[39mupdate(kwds_defaults)\n\u001b[0;32m--> 948\u001b[0m \u001b[38;5;28;01mreturn\u001b[39;00m \u001b[43m_read\u001b[49m\u001b[43m(\u001b[49m\u001b[43mfilepath_or_buffer\u001b[49m\u001b[43m,\u001b[49m\u001b[43m \u001b[49m\u001b[43mkwds\u001b[49m\u001b[43m)\u001b[49m\n",
      "File \u001b[0;32m~/peter-projects/contract-queue/.venv/lib/python3.10/site-packages/pandas/io/parsers/readers.py:617\u001b[0m, in \u001b[0;36m_read\u001b[0;34m(filepath_or_buffer, kwds)\u001b[0m\n\u001b[1;32m    614\u001b[0m     \u001b[38;5;28;01mreturn\u001b[39;00m parser\n\u001b[1;32m    616\u001b[0m \u001b[38;5;28;01mwith\u001b[39;00m parser:\n\u001b[0;32m--> 617\u001b[0m     \u001b[38;5;28;01mreturn\u001b[39;00m \u001b[43mparser\u001b[49m\u001b[38;5;241;43m.\u001b[39;49m\u001b[43mread\u001b[49m\u001b[43m(\u001b[49m\u001b[43mnrows\u001b[49m\u001b[43m)\u001b[49m\n",
      "File \u001b[0;32m~/peter-projects/contract-queue/.venv/lib/python3.10/site-packages/pandas/io/parsers/readers.py:1748\u001b[0m, in \u001b[0;36mTextFileReader.read\u001b[0;34m(self, nrows)\u001b[0m\n\u001b[1;32m   1741\u001b[0m nrows \u001b[38;5;241m=\u001b[39m validate_integer(\u001b[38;5;124m\"\u001b[39m\u001b[38;5;124mnrows\u001b[39m\u001b[38;5;124m\"\u001b[39m, nrows)\n\u001b[1;32m   1742\u001b[0m \u001b[38;5;28;01mtry\u001b[39;00m:\n\u001b[1;32m   1743\u001b[0m     \u001b[38;5;66;03m# error: \"ParserBase\" has no attribute \"read\"\u001b[39;00m\n\u001b[1;32m   1744\u001b[0m     (\n\u001b[1;32m   1745\u001b[0m         index,\n\u001b[1;32m   1746\u001b[0m         columns,\n\u001b[1;32m   1747\u001b[0m         col_dict,\n\u001b[0;32m-> 1748\u001b[0m     ) \u001b[38;5;241m=\u001b[39m \u001b[38;5;28;43mself\u001b[39;49m\u001b[38;5;241;43m.\u001b[39;49m\u001b[43m_engine\u001b[49m\u001b[38;5;241;43m.\u001b[39;49m\u001b[43mread\u001b[49m\u001b[43m(\u001b[49m\u001b[43m  \u001b[49m\u001b[38;5;66;43;03m# type: ignore[attr-defined]\u001b[39;49;00m\n\u001b[1;32m   1749\u001b[0m \u001b[43m        \u001b[49m\u001b[43mnrows\u001b[49m\n\u001b[1;32m   1750\u001b[0m \u001b[43m    \u001b[49m\u001b[43m)\u001b[49m\n\u001b[1;32m   1751\u001b[0m \u001b[38;5;28;01mexcept\u001b[39;00m \u001b[38;5;167;01mException\u001b[39;00m:\n\u001b[1;32m   1752\u001b[0m     \u001b[38;5;28mself\u001b[39m\u001b[38;5;241m.\u001b[39mclose()\n",
      "File \u001b[0;32m~/peter-projects/contract-queue/.venv/lib/python3.10/site-packages/pandas/io/parsers/c_parser_wrapper.py:234\u001b[0m, in \u001b[0;36mCParserWrapper.read\u001b[0;34m(self, nrows)\u001b[0m\n\u001b[1;32m    232\u001b[0m \u001b[38;5;28;01mtry\u001b[39;00m:\n\u001b[1;32m    233\u001b[0m     \u001b[38;5;28;01mif\u001b[39;00m \u001b[38;5;28mself\u001b[39m\u001b[38;5;241m.\u001b[39mlow_memory:\n\u001b[0;32m--> 234\u001b[0m         chunks \u001b[38;5;241m=\u001b[39m \u001b[38;5;28;43mself\u001b[39;49m\u001b[38;5;241;43m.\u001b[39;49m\u001b[43m_reader\u001b[49m\u001b[38;5;241;43m.\u001b[39;49m\u001b[43mread_low_memory\u001b[49m\u001b[43m(\u001b[49m\u001b[43mnrows\u001b[49m\u001b[43m)\u001b[49m\n\u001b[1;32m    235\u001b[0m         \u001b[38;5;66;03m# destructive to chunks\u001b[39;00m\n\u001b[1;32m    236\u001b[0m         data \u001b[38;5;241m=\u001b[39m _concatenate_chunks(chunks)\n",
      "File \u001b[0;32mparsers.pyx:843\u001b[0m, in \u001b[0;36mpandas._libs.parsers.TextReader.read_low_memory\u001b[0;34m()\u001b[0m\n",
      "File \u001b[0;32mparsers.pyx:904\u001b[0m, in \u001b[0;36mpandas._libs.parsers.TextReader._read_rows\u001b[0;34m()\u001b[0m\n",
      "File \u001b[0;32mparsers.pyx:879\u001b[0m, in \u001b[0;36mpandas._libs.parsers.TextReader._tokenize_rows\u001b[0;34m()\u001b[0m\n",
      "File \u001b[0;32mparsers.pyx:890\u001b[0m, in \u001b[0;36mpandas._libs.parsers.TextReader._check_tokenize_status\u001b[0;34m()\u001b[0m\n",
      "File \u001b[0;32mparsers.pyx:2058\u001b[0m, in \u001b[0;36mpandas._libs.parsers.raise_parser_error\u001b[0;34m()\u001b[0m\n",
      "\u001b[0;31mParserError\u001b[0m: Error tokenizing data. C error: EOF inside string starting at row 200453"
     ]
    }
   ],
   "source": [
    "pd.read_csv(\n",
    "    \"./data/FY2023_archived_opportunities.csv\",\n",
    "    encoding=\"latin1\",\n",
    "    # quoting=csv.QUOTE_NONE,\n",
    "    delimiter=',',\n",
    "    parse_dates=['PostedDate', 'ArchiveDate', 'AwardDate'],\n",
    "    # on_bad_lines=\"skip\",\n",
    "    quotechar='\"',\n",
    ")"
   ]
  },
  {
   "cell_type": "code",
   "execution_count": null,
   "metadata": {},
   "outputs": [],
   "source": []
  },
  {
   "cell_type": "code",
   "execution_count": null,
   "metadata": {},
   "outputs": [],
   "source": [
    "with open(\"./data/FY2023_archived_opportunities.csv\", errors=\"ignore\", encoding=\"utf-8\") as file:\n",
    "    df = pd.read_csv(file,\n",
    "                     quoting=csv.QUOTE_NONE, \n",
    "                    # sep=',',\n",
    "                     on_bad_lines=\"skip\")"
   ]
  },
  {
   "cell_type": "code",
   "execution_count": null,
   "metadata": {},
   "outputs": [],
   "source": [
    "df.tail()"
   ]
  },
  {
   "cell_type": "code",
   "execution_count": null,
   "metadata": {},
   "outputs": [],
   "source": [
    "df = df.map(lambda x: x.strip('\"') if isinstance(x, str) else x)"
   ]
  },
  {
   "cell_type": "code",
   "execution_count": null,
   "metadata": {},
   "outputs": [],
   "source": [
    "df.rename(columns=lambda x: x.strip('\"'), inplace=True)"
   ]
  },
  {
   "cell_type": "code",
   "execution_count": null,
   "metadata": {},
   "outputs": [],
   "source": [
    "df.index = df.index.to_series().map(lambda x: x.strip('\"') if isinstance(x, str) else x)"
   ]
  },
  {
   "cell_type": "code",
   "execution_count": null,
   "metadata": {},
   "outputs": [],
   "source": [
    "df.head()"
   ]
  },
  {
   "cell_type": "code",
   "execution_count": null,
   "metadata": {},
   "outputs": [],
   "source": [
    "df.to_csv(\"./data/cleaned_FY2023_archived_opportunities.csv\")"
   ]
  },
  {
   "cell_type": "code",
   "execution_count": null,
   "metadata": {},
   "outputs": [],
   "source": []
  }
 ],
 "metadata": {
  "kernelspec": {
   "display_name": ".venv",
   "language": "python",
   "name": "python3"
  },
  "language_info": {
   "codemirror_mode": {
    "name": "ipython",
    "version": 3
   },
   "file_extension": ".py",
   "mimetype": "text/x-python",
   "name": "python",
   "nbconvert_exporter": "python",
   "pygments_lexer": "ipython3",
   "version": "3.10.12"
  }
 },
 "nbformat": 4,
 "nbformat_minor": 2
}
