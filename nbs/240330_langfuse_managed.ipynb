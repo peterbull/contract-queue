{
 "cells": [
  {
   "cell_type": "code",
   "execution_count": 3,
   "metadata": {},
   "outputs": [],
   "source": [
    "from langfuse.decorators import observe\n",
    "from langfuse.openai import openai"
   ]
  },
  {
   "cell_type": "code",
   "execution_count": 4,
   "metadata": {},
   "outputs": [
    {
     "data": {
      "text/plain": [
       "True"
      ]
     },
     "execution_count": 4,
     "metadata": {},
     "output_type": "execute_result"
    }
   ],
   "source": [
    "from dotenv import load_dotenv\n",
    "load_dotenv()"
   ]
  },
  {
   "cell_type": "code",
   "execution_count": 8,
   "metadata": {},
   "outputs": [],
   "source": [
    "@observe()\n",
    "def story():\n",
    "    return (\n",
    "        openai.chat.completions.create(\n",
    "            model=\"gpt-3.5-turbo\",\n",
    "            max_tokens=100,\n",
    "            messages=[\n",
    "                {\"role\": \"system\", \"content\": \"You are a great storyteller.\"},\n",
    "                {\"role\": \"user\", \"content\": \"Once upon a time in a galaxy far, dingo bango...\"},\n",
    "            ],\n",
    "        )\n",
    "        .choices[0]\n",
    "        .message.content\n",
    "    )"
   ]
  },
  {
   "cell_type": "code",
   "execution_count": 9,
   "metadata": {},
   "outputs": [],
   "source": [
    "@observe()\n",
    "def main():\n",
    "    return story()"
   ]
  },
  {
   "cell_type": "code",
   "execution_count": 10,
   "metadata": {},
   "outputs": [
    {
     "data": {
      "text/plain": [
       "'Thank you! Here is a continuation of the story:\\n\\nOnce upon a time in a galaxy far, dingo bango, there lived a curious little alien named Zara. Zara had shiny purple scales and eight eyes that sparkled like stars. She loved exploring the vast galaxy and discovering new planets.\\n\\nOne day, while flying her spaceship through the cosmic, swirling clouds, Zara stumbled upon a mysterious planet covered in shimmering crystals. Intrigued, she landed her spaceship and ventured out to'"
      ]
     },
     "execution_count": 10,
     "metadata": {},
     "output_type": "execute_result"
    }
   ],
   "source": [
    "main()"
   ]
  },
  {
   "cell_type": "code",
   "execution_count": null,
   "metadata": {},
   "outputs": [],
   "source": []
  }
 ],
 "metadata": {
  "kernelspec": {
   "display_name": ".venv",
   "language": "python",
   "name": "python3"
  },
  "language_info": {
   "codemirror_mode": {
    "name": "ipython",
    "version": 3
   },
   "file_extension": ".py",
   "mimetype": "text/x-python",
   "name": "python",
   "nbconvert_exporter": "python",
   "pygments_lexer": "ipython3",
   "version": "3.10.12"
  }
 },
 "nbformat": 4,
 "nbformat_minor": 2
}
