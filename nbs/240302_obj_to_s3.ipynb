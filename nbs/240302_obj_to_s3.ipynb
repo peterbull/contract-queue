{
 "cells": [
  {
   "cell_type": "code",
   "execution_count": 1,
   "metadata": {},
   "outputs": [],
   "source": [
    "from dotenv import load_dotenv\n",
    "import os\n",
    "import requests\n",
    "import json\n",
    "import re\n",
    "import pandas as pd\n",
    "from io import BytesIO\n",
    "import pendulum\n",
    "import boto3\n",
    "\n"
   ]
  },
  {
   "cell_type": "code",
   "execution_count": 2,
   "metadata": {},
   "outputs": [
    {
     "data": {
      "text/plain": [
       "True"
      ]
     },
     "execution_count": 2,
     "metadata": {},
     "output_type": "execute_result"
    }
   ],
   "source": [
    "load_dotenv()"
   ]
  },
  {
   "cell_type": "code",
   "execution_count": 3,
   "metadata": {},
   "outputs": [],
   "source": [
    "SAM_PUBLIC_API_KEY = os.environ.get(\"SAM_PUBLIC_API_KEY\")\n",
    "S3_AWS_ACCESS_KEY_ID = os.environ.get(\"S3_AWS_ACCESS_KEY_ID\")\n",
    "S3_AWS_SECRET_ACCESS_KEY = os.environ.get(\"S3_AWS_SECRET_ACCESS_KEY\")\n",
    "S3_REGION_NAME = os.environ.get(\"S3_REGION_NAME\")\n",
    "S3_BUCKET_OPPORTUNITIES = os.environ.get(\"S3_BUCKET_OPPORTUNITIES\") "
   ]
  },
  {
   "cell_type": "markdown",
   "metadata": {},
   "source": [
    "### Mimicking scraped data with split json file"
   ]
  },
  {
   "cell_type": "markdown",
   "metadata": {},
   "source": [
    "Load data"
   ]
  },
  {
   "cell_type": "code",
   "execution_count": 4,
   "metadata": {},
   "outputs": [],
   "source": [
    "with open('./data/temp-opp-file.json') as f:\n",
    "    res = json.load(f)"
   ]
  },
  {
   "cell_type": "code",
   "execution_count": 5,
   "metadata": {},
   "outputs": [
    {
     "data": {
      "text/plain": [
       "1000"
      ]
     },
     "execution_count": 5,
     "metadata": {},
     "output_type": "execute_result"
    }
   ],
   "source": [
    "len(res)"
   ]
  },
  {
   "cell_type": "code",
   "execution_count": 6,
   "metadata": {},
   "outputs": [],
   "source": [
    "record_1, record_2, record_3 = res[:300], res[300:600], res[600:]"
   ]
  },
  {
   "cell_type": "code",
   "execution_count": 7,
   "metadata": {},
   "outputs": [],
   "source": [
    "combined_records = record_1 + record_2 + record_3"
   ]
  },
  {
   "cell_type": "code",
   "execution_count": 8,
   "metadata": {},
   "outputs": [
    {
     "data": {
      "text/plain": [
       "True"
      ]
     },
     "execution_count": 8,
     "metadata": {},
     "output_type": "execute_result"
    }
   ],
   "source": [
    "combined_records == res"
   ]
  },
  {
   "cell_type": "code",
   "execution_count": 9,
   "metadata": {},
   "outputs": [],
   "source": [
    "json_data = json.dumps(combined_records)"
   ]
  },
  {
   "cell_type": "code",
   "execution_count": 10,
   "metadata": {},
   "outputs": [],
   "source": [
    "bytes_data = json_data.encode('utf-8')"
   ]
  },
  {
   "cell_type": "code",
   "execution_count": 11,
   "metadata": {},
   "outputs": [],
   "source": [
    "s3_client = boto3.client(\n",
    "    \"s3\",\n",
    "    region_name=S3_REGION_NAME,\n",
    "    aws_access_key_id=S3_AWS_ACCESS_KEY_ID,\n",
    "    aws_secret_access_key=S3_AWS_SECRET_ACCESS_KEY,\n",
    ")\n",
    "bucket_name = S3_BUCKET_OPPORTUNITIES\n",
    "current_date = pendulum.now('utc').strftime('%Y%m%d')\n",
    "file_name = f\"daily-opportunity-posts/{current_date}.json\""
   ]
  },
  {
   "cell_type": "code",
   "execution_count": 12,
   "metadata": {},
   "outputs": [
    {
     "data": {
      "text/plain": [
       "{'ResponseMetadata': {'RequestId': 'AHGX88PV11V0993B',\n",
       "  'HostId': 'PckCv+08V2M6ivBD/pWVIeu4DD+AVD+UFbHd08HBmIQvljEkssm0NlHBtGoeUsMJD9x3J4uHwBKEdPvca+BOC8MaVpLldRSO',\n",
       "  'HTTPStatusCode': 200,\n",
       "  'HTTPHeaders': {'x-amz-id-2': 'PckCv+08V2M6ivBD/pWVIeu4DD+AVD+UFbHd08HBmIQvljEkssm0NlHBtGoeUsMJD9x3J4uHwBKEdPvca+BOC8MaVpLldRSO',\n",
       "   'x-amz-request-id': 'AHGX88PV11V0993B',\n",
       "   'date': 'Sat, 02 Mar 2024 10:49:46 GMT',\n",
       "   'x-amz-version-id': 'BRs1Bhv0GViypmwL5Kb66zfQuB27jSfZ',\n",
       "   'x-amz-server-side-encryption': 'AES256',\n",
       "   'etag': '\"4ebd021f5bedb26069037b66c5db1fae\"',\n",
       "   'server': 'AmazonS3',\n",
       "   'content-length': '0'},\n",
       "  'RetryAttempts': 0},\n",
       " 'ETag': '\"4ebd021f5bedb26069037b66c5db1fae\"',\n",
       " 'ServerSideEncryption': 'AES256',\n",
       " 'VersionId': 'BRs1Bhv0GViypmwL5Kb66zfQuB27jSfZ'}"
      ]
     },
     "execution_count": 12,
     "metadata": {},
     "output_type": "execute_result"
    }
   ],
   "source": [
    "s3_client.put_object(Bucket=bucket_name, Key=file_name, Body=bytes_data)"
   ]
  },
  {
   "cell_type": "code",
   "execution_count": null,
   "metadata": {},
   "outputs": [],
   "source": []
  }
 ],
 "metadata": {
  "kernelspec": {
   "display_name": ".venv",
   "language": "python",
   "name": "python3"
  },
  "language_info": {
   "codemirror_mode": {
    "name": "ipython",
    "version": 3
   },
   "file_extension": ".py",
   "mimetype": "text/x-python",
   "name": "python",
   "nbconvert_exporter": "python",
   "pygments_lexer": "ipython3",
   "version": "3.10.12"
  }
 },
 "nbformat": 4,
 "nbformat_minor": 2
}
