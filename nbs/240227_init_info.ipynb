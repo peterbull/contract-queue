{
 "cells": [
  {
   "cell_type": "markdown",
   "metadata": {},
   "source": [
    "## Govt Contracts "
   ]
  },
  {
   "cell_type": "markdown",
   "metadata": {},
   "source": [
    "- [SBA Info](https://www.sba.gov/federal-contracting/contracting-guide/how-win-contracts)\n",
    "- [Hubzone Map](https://maps.certify.sba.gov/hubzone/map#center=44.722800,-103.249700&zoom=4)\n",
    "- [DBSB](https://dsbs.sba.gov/search/)\n",
    "- [GSA API Gateway](https://open.gsa.gov/api/)"
   ]
  }
 ],
 "metadata": {
  "language_info": {
   "name": "python"
  }
 },
 "nbformat": 4,
 "nbformat_minor": 2
}
