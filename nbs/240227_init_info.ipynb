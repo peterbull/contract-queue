{
 "cells": [
  {
   "cell_type": "markdown",
   "metadata": {},
   "source": [
    "## Govt Contracts "
   ]
  },
  {
   "cell_type": "code",
   "execution_count": 28,
   "metadata": {},
   "outputs": [],
   "source": [
    "from dotenv import load_dotenv\n",
    "import os\n",
    "import requests\n",
    "\n",
    "from typing import List, Optional, Union\n",
    "from pydantic import BaseModel, Field, HttpUrl, TypeAdapter"
   ]
  },
  {
   "cell_type": "code",
   "execution_count": 16,
   "metadata": {},
   "outputs": [
    {
     "data": {
      "text/plain": [
       "True"
      ]
     },
     "execution_count": 16,
     "metadata": {},
     "output_type": "execute_result"
    }
   ],
   "source": [
    "load_dotenv()\n"
   ]
  },
  {
   "cell_type": "code",
   "execution_count": null,
   "metadata": {},
   "outputs": [],
   "source": []
  },
  {
   "cell_type": "markdown",
   "metadata": {},
   "source": [
    "- [SBA Info](https://www.sba.gov/federal-contracting/contracting-guide/how-win-contracts)\n",
    "- [Hubzone Map](https://maps.certify.sba.gov/hubzone/map#center=44.722800,-103.249700&zoom=4)\n",
    "- [DBSB](https://dsbs.sba.gov/search/)\n",
    "- [GSA API Gateway](https://open.gsa.gov/api/)\n",
    "- [Opportunities Public API](https://open.gsa.gov/api/get-opportunities-public-api/)"
   ]
  },
  {
   "cell_type": "markdown",
   "metadata": {},
   "source": [
    "Interfacing System Name: COM"
   ]
  },
  {
   "cell_type": "markdown",
   "metadata": {},
   "source": [
    "System Description and Function\n",
    "```\n",
    "I would like to interface with SAM.gov's Opportunity Management API for the primary purpose of extracting and filtering public contract opportunities. I will utilize advanced algorithms to sort opportunities based on predefined criteria such as industry categories, contract value, and geographical location. The aim is to streamline our procurement process by quickly identifying and presenting the most relevant opportunities to our team. The system will include robust security measures to ensure data integrity and compliance with federal data access regulations. It will be regularly updated to maintain compatibility with SAM.gov API developments and security requirements."
   ]
  },
  {
   "cell_type": "code",
   "execution_count": 17,
   "metadata": {},
   "outputs": [],
   "source": [
    "SAM_PUBLIC_API_KEY = os.environ.get(\"SAM_PUBLIC_API_KEY\")\n",
    "base_url = \"https://api.sam.gov/opportunities/v2/search\""
   ]
  },
  {
   "cell_type": "code",
   "execution_count": 18,
   "metadata": {},
   "outputs": [],
   "source": [
    "res = requests.get(f\"https://api.sam.gov/opportunities/v2/search?api_key={SAM_PUBLIC_API_KEY}&postedFrom=01/01/2024&postedTo=12/31/2024&ptype=o&limit=1000\")"
   ]
  },
  {
   "cell_type": "code",
   "execution_count": 20,
   "metadata": {},
   "outputs": [
    {
     "data": {
      "text/plain": [
       "{'noticeId': 'd524f3b99db14bc4b0ce4f3bb61ea6c7',\n",
       " 'title': 'Elevators Maintenance Services',\n",
       " 'solicitationNumber': 'RFQ19J01024Q0010',\n",
       " 'fullParentPathName': 'STATE, DEPARTMENT OF.STATE, DEPARTMENT OF.US EMBASSY AMMAN',\n",
       " 'fullParentPathCode': '019.1900.19J010',\n",
       " 'postedDate': '2024-02-28',\n",
       " 'type': 'Solicitation',\n",
       " 'baseType': 'Solicitation',\n",
       " 'archiveType': 'auto15',\n",
       " 'archiveDate': '2024-03-22',\n",
       " 'typeOfSetAsideDescription': None,\n",
       " 'typeOfSetAside': None,\n",
       " 'responseDeadLine': '2024-03-07T16:00:00+03:00',\n",
       " 'naicsCode': '811',\n",
       " 'naicsCodes': ['811'],\n",
       " 'classificationCode': 'Z1NZ',\n",
       " 'active': 'Yes',\n",
       " 'award': None,\n",
       " 'pointOfContact': [{'fax': '',\n",
       "   'type': 'primary',\n",
       "   'email': 'copelandJM@state.gov',\n",
       "   'phone': '',\n",
       "   'title': None,\n",
       "   'fullName': 'Jessi Copeland'},\n",
       "  {'fax': '',\n",
       "   'type': 'secondary',\n",
       "   'email': 'zabanehrg@state.gov',\n",
       "   'phone': '96265906060',\n",
       "   'title': None,\n",
       "   'fullName': 'Rula Zabaneh'}],\n",
       " 'description': 'https://api.sam.gov/prod/opportunities/v1/noticedesc?noticeid=d524f3b99db14bc4b0ce4f3bb61ea6c7',\n",
       " 'organizationType': 'OFFICE',\n",
       " 'officeAddress': {'zipcode': '20520',\n",
       "  'city': 'WASHINGTON',\n",
       "  'countryCode': 'USA',\n",
       "  'state': 'DC'},\n",
       " 'placeOfPerformance': {'city': {'code': 'Amman', 'name': 'Amman'},\n",
       "  'zip': '11118',\n",
       "  'country': {'code': 'JOR', 'name': 'JORDAN'}},\n",
       " 'additionalInfoLink': None,\n",
       " 'uiLink': 'https://sam.gov/opp/d524f3b99db14bc4b0ce4f3bb61ea6c7/view',\n",
       " 'links': [{'rel': 'self',\n",
       "   'href': 'https://api.sam.gov/prod/opportunities/v2/search?noticeid=d524f3b99db14bc4b0ce4f3bb61ea6c7&limit=1'}],\n",
       " 'resourceLinks': ['https://sam.gov/api/prod/opps/v3/opportunities/resources/files/226da2f8ff074979ace9dc8b417c1372/download?api_key=null&token=',\n",
       "  'https://sam.gov/api/prod/opps/v3/opportunities/resources/files/504afdc47f4a4e84ac67fdd63e0561b1/download?api_key=null&token=',\n",
       "  'https://sam.gov/api/prod/opps/v3/opportunities/resources/files/5755ff8398f640febd3c6a0509feb29a/download?api_key=null&token=',\n",
       "  'https://sam.gov/api/prod/opps/v3/opportunities/resources/files/5b624f00b2904e03ae44a3462e182065/download?api_key=null&token=',\n",
       "  'https://sam.gov/api/prod/opps/v3/opportunities/resources/files/9cbaf933a5904e74970fc9cdf0506bb8/download?api_key=null&token=',\n",
       "  'https://sam.gov/api/prod/opps/v3/opportunities/resources/files/c873a114c1df472f86ddd323ea35bdc3/download?api_key=null&token=']}"
      ]
     },
     "execution_count": 20,
     "metadata": {},
     "output_type": "execute_result"
    }
   ],
   "source": [
    "res.json()[\"opportunitiesData\"][0]"
   ]
  },
  {
   "cell_type": "markdown",
   "metadata": {},
   "source": [
    "## Schema"
   ]
  },
  {
   "cell_type": "code",
   "execution_count": 46,
   "metadata": {},
   "outputs": [],
   "source": [
    "class Award(BaseModel):\n",
    "    awardee: Optional[dict] = None\n",
    "\n",
    "class PointOfContact(BaseModel):\n",
    "    fax: Optional[str] = None\n",
    "    type: str\n",
    "    email: str\n",
    "    phone: Optional[str] = None\n",
    "    title: Optional[str] = None\n",
    "    fullName: str\n",
    "\n",
    "class Address(BaseModel):\n",
    "    zipcode: Optional[str]\n",
    "    city: str\n",
    "    countryCode: str\n",
    "    state: str\n",
    "\n",
    "class PlaceOfPerformance(BaseModel):\n",
    "    city: Optional[Union[dict, str]] = None\n",
    "    state: Optional[Union[dict, str]] = None\n",
    "    country: Optional[Union[dict, str]] = None\n",
    "    zip: Optional[str] = None\n",
    "\n",
    "class Link(BaseModel):\n",
    "    rel: str\n",
    "    href: HttpUrl\n",
    "\n",
    "class Notice(BaseModel):\n",
    "    noticeId: str = Field(..., alias='noticeId')\n",
    "    title: str\n",
    "    solicitationNumber: str\n",
    "    fullParentPathName: str\n",
    "    fullParentPathCode: str\n",
    "    postedDate: str\n",
    "    type: str\n",
    "    baseType: str\n",
    "    archiveType: str\n",
    "    archiveDate: str\n",
    "    typeOfSetAsideDescription: Optional[str] = None\n",
    "    typeOfSetAside: Optional[str] = None\n",
    "    responseDeadLine: str\n",
    "    naicsCode: str\n",
    "    naicsCodes: List[str]\n",
    "    classificationCode: str\n",
    "    active: str\n",
    "    award: Optional[Award] = None\n",
    "    pointOfContact: List[PointOfContact]\n",
    "    description: HttpUrl\n",
    "    organizationType: str\n",
    "    officeAddress: Optional[Address] = None\n",
    "    placeOfPerformance: Optional[PlaceOfPerformance] = None\n",
    "    additionalInfoLink: Optional[HttpUrl] = None\n",
    "    uiLink: HttpUrl\n",
    "    links: List[Link]\n",
    "    resourceLinks: Optional[List[HttpUrl]] = None\n",
    "\n",
    "    class Config:\n",
    "        populate_by_name = True"
   ]
  },
  {
   "cell_type": "code",
   "execution_count": 47,
   "metadata": {},
   "outputs": [],
   "source": [
    "json_dict = res.json()[\"opportunitiesData\"]"
   ]
  },
  {
   "cell_type": "code",
   "execution_count": 48,
   "metadata": {},
   "outputs": [],
   "source": [
    "notice = TypeAdapter(Notice).validate_python(json_dict[0])"
   ]
  },
  {
   "cell_type": "code",
   "execution_count": 49,
   "metadata": {},
   "outputs": [
    {
     "data": {
      "text/plain": [
       "Notice(noticeId='d524f3b99db14bc4b0ce4f3bb61ea6c7', title='Elevators Maintenance Services', solicitationNumber='RFQ19J01024Q0010', fullParentPathName='STATE, DEPARTMENT OF.STATE, DEPARTMENT OF.US EMBASSY AMMAN', fullParentPathCode='019.1900.19J010', postedDate='2024-02-28', type='Solicitation', baseType='Solicitation', archiveType='auto15', archiveDate='2024-03-22', typeOfSetAsideDescription=None, typeOfSetAside=None, responseDeadLine='2024-03-07T16:00:00+03:00', naicsCode='811', naicsCodes=['811'], classificationCode='Z1NZ', active='Yes', award=None, pointOfContact=[PointOfContact(fax='', type='primary', email='copelandJM@state.gov', phone='', title=None, fullName='Jessi Copeland'), PointOfContact(fax='', type='secondary', email='zabanehrg@state.gov', phone='96265906060', title=None, fullName='Rula Zabaneh')], description=Url('https://api.sam.gov/prod/opportunities/v1/noticedesc?noticeid=d524f3b99db14bc4b0ce4f3bb61ea6c7'), organizationType='OFFICE', officeAddress=Address(zipcode='20520', city='WASHINGTON', countryCode='USA', state='DC'), placeOfPerformance=PlaceOfPerformance(city={'code': 'Amman', 'name': 'Amman'}, state=None, country={'code': 'JOR', 'name': 'JORDAN'}, zip='11118'), additionalInfoLink=None, uiLink=Url('https://sam.gov/opp/d524f3b99db14bc4b0ce4f3bb61ea6c7/view'), links=[Link(rel='self', href=Url('https://api.sam.gov/prod/opportunities/v2/search?noticeid=d524f3b99db14bc4b0ce4f3bb61ea6c7&limit=1'))], resourceLinks=[Url('https://sam.gov/api/prod/opps/v3/opportunities/resources/files/226da2f8ff074979ace9dc8b417c1372/download?api_key=null&token='), Url('https://sam.gov/api/prod/opps/v3/opportunities/resources/files/504afdc47f4a4e84ac67fdd63e0561b1/download?api_key=null&token='), Url('https://sam.gov/api/prod/opps/v3/opportunities/resources/files/5755ff8398f640febd3c6a0509feb29a/download?api_key=null&token='), Url('https://sam.gov/api/prod/opps/v3/opportunities/resources/files/5b624f00b2904e03ae44a3462e182065/download?api_key=null&token='), Url('https://sam.gov/api/prod/opps/v3/opportunities/resources/files/9cbaf933a5904e74970fc9cdf0506bb8/download?api_key=null&token='), Url('https://sam.gov/api/prod/opps/v3/opportunities/resources/files/c873a114c1df472f86ddd323ea35bdc3/download?api_key=null&token=')])"
      ]
     },
     "execution_count": 49,
     "metadata": {},
     "output_type": "execute_result"
    }
   ],
   "source": [
    "Notice.model_validate(json_dict[0])"
   ]
  },
  {
   "cell_type": "code",
   "execution_count": 50,
   "metadata": {},
   "outputs": [],
   "source": [
    "def validate_notices(notices: List[dict]):\n",
    "    return [Notice.model_validate(item) for item in notices]"
   ]
  },
  {
   "cell_type": "code",
   "execution_count": 51,
   "metadata": {},
   "outputs": [
    {
     "ename": "ValidationError",
     "evalue": "2 validation errors for Notice\nofficeAddress.zipcode\n  Field required [type=missing, input_value={'city': 'PRETORIA', 'countryCode': 'ZAF'}, input_type=dict]\n    For further information visit https://errors.pydantic.dev/2.6/v/missing\nofficeAddress.state\n  Field required [type=missing, input_value={'city': 'PRETORIA', 'countryCode': 'ZAF'}, input_type=dict]\n    For further information visit https://errors.pydantic.dev/2.6/v/missing",
     "output_type": "error",
     "traceback": [
      "\u001b[0;31m---------------------------------------------------------------------------\u001b[0m",
      "\u001b[0;31mValidationError\u001b[0m                           Traceback (most recent call last)",
      "Cell \u001b[0;32mIn[51], line 1\u001b[0m\n\u001b[0;32m----> 1\u001b[0m \u001b[43mvalidate_notices\u001b[49m\u001b[43m(\u001b[49m\u001b[43mjson_dict\u001b[49m\u001b[43m)\u001b[49m\n",
      "Cell \u001b[0;32mIn[50], line 2\u001b[0m, in \u001b[0;36mvalidate_notices\u001b[0;34m(notices)\u001b[0m\n\u001b[1;32m      1\u001b[0m \u001b[38;5;28;01mdef\u001b[39;00m \u001b[38;5;21mvalidate_notices\u001b[39m(notices: List[\u001b[38;5;28mdict\u001b[39m]):\n\u001b[0;32m----> 2\u001b[0m     \u001b[38;5;28;01mreturn\u001b[39;00m [Notice\u001b[38;5;241m.\u001b[39mmodel_validate(item) \u001b[38;5;28;01mfor\u001b[39;00m item \u001b[38;5;129;01min\u001b[39;00m notices]\n",
      "Cell \u001b[0;32mIn[50], line 2\u001b[0m, in \u001b[0;36m<listcomp>\u001b[0;34m(.0)\u001b[0m\n\u001b[1;32m      1\u001b[0m \u001b[38;5;28;01mdef\u001b[39;00m \u001b[38;5;21mvalidate_notices\u001b[39m(notices: List[\u001b[38;5;28mdict\u001b[39m]):\n\u001b[0;32m----> 2\u001b[0m     \u001b[38;5;28;01mreturn\u001b[39;00m [\u001b[43mNotice\u001b[49m\u001b[38;5;241;43m.\u001b[39;49m\u001b[43mmodel_validate\u001b[49m\u001b[43m(\u001b[49m\u001b[43mitem\u001b[49m\u001b[43m)\u001b[49m \u001b[38;5;28;01mfor\u001b[39;00m item \u001b[38;5;129;01min\u001b[39;00m notices]\n",
      "File \u001b[0;32m~/peter-projects/contract-queue/.venv/lib/python3.10/site-packages/pydantic/main.py:509\u001b[0m, in \u001b[0;36mBaseModel.model_validate\u001b[0;34m(cls, obj, strict, from_attributes, context)\u001b[0m\n\u001b[1;32m    507\u001b[0m \u001b[38;5;66;03m# `__tracebackhide__` tells pytest and some other tools to omit this function from tracebacks\u001b[39;00m\n\u001b[1;32m    508\u001b[0m __tracebackhide__ \u001b[38;5;241m=\u001b[39m \u001b[38;5;28;01mTrue\u001b[39;00m\n\u001b[0;32m--> 509\u001b[0m \u001b[38;5;28;01mreturn\u001b[39;00m \u001b[38;5;28;43mcls\u001b[39;49m\u001b[38;5;241;43m.\u001b[39;49m\u001b[43m__pydantic_validator__\u001b[49m\u001b[38;5;241;43m.\u001b[39;49m\u001b[43mvalidate_python\u001b[49m\u001b[43m(\u001b[49m\n\u001b[1;32m    510\u001b[0m \u001b[43m    \u001b[49m\u001b[43mobj\u001b[49m\u001b[43m,\u001b[49m\u001b[43m \u001b[49m\u001b[43mstrict\u001b[49m\u001b[38;5;241;43m=\u001b[39;49m\u001b[43mstrict\u001b[49m\u001b[43m,\u001b[49m\u001b[43m \u001b[49m\u001b[43mfrom_attributes\u001b[49m\u001b[38;5;241;43m=\u001b[39;49m\u001b[43mfrom_attributes\u001b[49m\u001b[43m,\u001b[49m\u001b[43m \u001b[49m\u001b[43mcontext\u001b[49m\u001b[38;5;241;43m=\u001b[39;49m\u001b[43mcontext\u001b[49m\n\u001b[1;32m    511\u001b[0m \u001b[43m\u001b[49m\u001b[43m)\u001b[49m\n",
      "\u001b[0;31mValidationError\u001b[0m: 2 validation errors for Notice\nofficeAddress.zipcode\n  Field required [type=missing, input_value={'city': 'PRETORIA', 'countryCode': 'ZAF'}, input_type=dict]\n    For further information visit https://errors.pydantic.dev/2.6/v/missing\nofficeAddress.state\n  Field required [type=missing, input_value={'city': 'PRETORIA', 'countryCode': 'ZAF'}, input_type=dict]\n    For further information visit https://errors.pydantic.dev/2.6/v/missing"
     ]
    }
   ],
   "source": [
    "validate_notices(json_dict)"
   ]
  },
  {
   "cell_type": "code",
   "execution_count": null,
   "metadata": {},
   "outputs": [],
   "source": []
  }
 ],
 "metadata": {
  "kernelspec": {
   "display_name": ".venv",
   "language": "python",
   "name": "python3"
  },
  "language_info": {
   "codemirror_mode": {
    "name": "ipython",
    "version": 3
   },
   "file_extension": ".py",
   "mimetype": "text/x-python",
   "name": "python",
   "nbconvert_exporter": "python",
   "pygments_lexer": "ipython3",
   "version": "3.10.12"
  }
 },
 "nbformat": 4,
 "nbformat_minor": 2
}
