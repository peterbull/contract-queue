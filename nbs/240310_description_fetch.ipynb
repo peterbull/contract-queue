{
 "cells": [
  {
   "cell_type": "code",
   "execution_count": 1,
   "metadata": {},
   "outputs": [],
   "source": [
    "import os\n",
    "import requests\n",
    "import pendulum\n",
    "from dotenv import load_dotenv\n",
    "import logging"
   ]
  },
  {
   "cell_type": "code",
   "execution_count": 2,
   "metadata": {},
   "outputs": [],
   "source": [
    "SAM_PUBLIC_API_KEY = os.environ.get(\"SAM_PUBLIC_API_KEY\")\n",
    "previous_date = pendulum.now(\"utc\").subtract(days=1).strftime(\"%Y%m%d\")\n",
    "base_url = \"https://api.sam.gov/opportunities/v2/search\"\n",
    "\n",
    "formatted_request_date = pendulum.parse(previous_date, strict=False).format(\"MM/DD/YYYY\")\n",
    "api_params = {\n",
    "    \"api_key\": SAM_PUBLIC_API_KEY,\n",
    "    \"postedFrom\": formatted_request_date,\n",
    "    \"postedTo\": formatted_request_date,\n",
    "    \"ptype\": \"o\",\n",
    "    \"limit\": 1000,\n",
    "    \"offset\": 0,\n",
    "}"
   ]
  },
  {
   "cell_type": "code",
   "execution_count": 5,
   "metadata": {},
   "outputs": [
    {
     "name": "stdout",
     "output_type": "stream",
     "text": [
      "Finished with 10 records in memory\n"
     ]
    }
   ],
   "source": [
    "\n",
    "opportunities = []\n",
    "\n",
    "while True:\n",
    "    res = requests.get(base_url, params=api_params)\n",
    "    if res.status_code == 200:\n",
    "        data = res.json()\n",
    "        records = data.get(\"opportunitiesData\", [])\n",
    "        for record in records:\n",
    "            if record.get(\"description\"):\n",
    "                res = requests.get(record.get(\"description\"), params={\"api_key\": api_params['api_key']})\n",
    "                record['descriptionText'] = res.json()\n",
    "        opportunities.extend(records)\n",
    "\n",
    "        if len(records) < api_params[\"limit\"]:\n",
    "            print(f\"Finished with {len(opportunities)} records in memory\")\n",
    "            break\n",
    "\n",
    "        api_params[\"offset\"] += api_params[\"limit\"]\n",
    "    elif res.status_code == 429:\n",
    "        logging.warning(\"Request limit hit -- try again in 24 hours\")\n",
    "        break\n",
    "    else:\n",
    "        raise Exception(f\"Request failed with status code {res.status_code}\")"
   ]
  },
  {
   "cell_type": "code",
   "execution_count": 6,
   "metadata": {},
   "outputs": [],
   "source": [
    "descs = [opportunity.get(\"descriptionText\") for opportunity in opportunities]"
   ]
  },
  {
   "cell_type": "code",
   "execution_count": 7,
   "metadata": {},
   "outputs": [
    {
     "data": {
      "text/plain": [
       "[{'description': '<p><strong>Notice ID</strong></p>\\n\\n<p><strong>SPMYM224Q0752</strong></p>\\n\\n<p><strong>THIS SOLICITATION SPMYM224Q075 AND ANY SUBSEQUENT AMENDMENTS WILL BE POSTED TO THE SAM WEBSITE: SAM.GOV</strong></p>\\n\\n<p>To be considered for award, if the contractor (awardee) is required to implement NIST SP 800-171, the contractor (awardee) shall have a current assessment as detailed in DFARS 252.204-7019 (I.E., not more than 3 years old unless a lesser time is specified in the solicitation)</p>\\n\\n<p>**Items deemed to be Commercial Off The Shelf (COTS) are exempt from NIST SP 800-171 requirement.&nbsp; Must identify and provide information to contracting officer on bid during solicitation period**</p>\\n\\n<p>FOR YOUR BID TO BE DEEMED RESPONSIVE A SIGNED AND COMPLETED SOLICITATION MUST BE SUBMITTED VIA EMAIL OR FAX<u><strong> BY THE OFFER DUE DATE ON THE SOLICITATION (8 MAR 2024 BY 1000 AM PST).</strong></u></p>\\n\\n<p>If you are able to quote please be sure to:</p>\\n\\n<p>1.&nbsp; Fill out box 17A with business name, address, phone number, and cage code&nbsp;</p>\\n\\n<p>2.&nbsp; <strong>Read box 28 and </strong><strong>sign page 1 boxes 30 a, b, and c (return a signed copy).</strong></p>\\n\\n<p>3.&nbsp; Fill out the Contractor Point of Contact (POC) (Generally on page 4)</p>\\n\\n<p>4. <strong>Read and </strong><strong>notate in the brackets for 1 &amp; 2 under (d) Representations and also 1 &amp; 2 under (c) Representations, </strong>regarding telecommunications&nbsp;&nbsp;&nbsp;&nbsp;&nbsp;&nbsp;&nbsp;&nbsp;&nbsp;&nbsp;&nbsp;&nbsp;</p>\\n\\n<p>5. Representation by Corporations Regarding Delinquent Tax Liability or a Felony Conviction under any Federal Law (Feb 2016).</p>\\n\\n<p>6. <strong>Please quote FOB Destination BREMERTON, WA.</strong></p>\\n\\n<p>7. <strong>Annotate the lead time.</strong></p>\\n\\n<p>8. <strong>Annotate the name of the manufacturer and the country of manufacturing. </strong>(&ldquo;CERTIFICATION REGARDING ACTUAL MANUFACTURER (BUSINESS SIZE IDENTIFICATION&rdquo;)</p>\\n\\n<p>9. ENSURE YOU CHECK APPLICABLE BOXES IN CLAUSE 52.204-24 (2)(d) (1) and (2).</p>\\n\\n<p>10. Return this information with your quote to:&nbsp;</p>\\n\\n<p>&nbsp; &nbsp; &nbsp; &nbsp; &nbsp; &nbsp; &nbsp; &nbsp; &nbsp; &nbsp; &nbsp; &nbsp; &nbsp; &nbsp; &nbsp; &nbsp; &nbsp; &nbsp; &nbsp; &nbsp; &nbsp; &nbsp; &nbsp; &nbsp; &nbsp; &nbsp; &nbsp; &nbsp; &nbsp; &nbsp; &nbsp; &nbsp; &nbsp; EMAIL: Lina.1.Cruz@DLA.MIL</p>\\n\\n<p>&nbsp; &nbsp; &nbsp; &nbsp; &nbsp; &nbsp; &nbsp; &nbsp; &nbsp; &nbsp; &nbsp; &nbsp; &nbsp; &nbsp; &nbsp; &nbsp; &nbsp; &nbsp; &nbsp; &nbsp; &nbsp; &nbsp; &nbsp; &nbsp; &nbsp; &nbsp; &nbsp; &nbsp; &nbsp; &nbsp; &nbsp; &nbsp; &nbsp; PHONE: 360-813-9267</p>\\n\\n<p></p>\\n'},\n",
       " {'description': 'UTV WITH DUMP BED CAPABILITY FOR TONOPAH FIELD OFFICE AO 23924 NP'},\n",
       " {'description': '<p><strong>THIS REQUIREMENT HAS A DISTRIBUTION D DRAWING, VENDOR MUST HAVE AN ACTIVE ACOUNT IN THE JOINT CERTIFICATION PROGRAM (JCP).&nbsp;</strong></p>\\n\\n<p><strong>THIS SOLICITATION SPMYM224Q1010 AND ANY SUBSEQUENT AMENDMENTS WILL BE POSTED TO THE SAM WEBSITE: SAM.GOV</strong></p>\\n\\n<p>To be considered for award, if the contractor (awardee) is required to implement NIST SP 800-171, the contractor (awardee) shall have a current assessment as detailed in DFARS 252.204-7019 (I.E., not more than 3 years old unless a lesser time is specified in the solicitation)</p>\\n\\n<p>**Items deemed to be Commercial Off The Shelf (COTS) are exempt from NIST SP 800-171 requirement.&nbsp; Must identify and provide information to contracting officer on bid during solicitation period**</p>\\n\\n<p>FOR YOUR BID TO BE DEEMED RESPONSIVE A SIGNED AND COMPLETED SOLICITATION MUST BE SUBMITTED VIA EMAIL OR FAX<strong><u> BY THE OFFER DUE DATE ON THE SOLICITATION (13 MAR 2024 BY 1 PM PDT).</u></strong></p>\\n\\n<p>If you are able to quote please be sure to:</p>\\n\\n<p>1.&nbsp; Fill out box 17A with business name, address, phone number, and cage code&nbsp;</p>\\n\\n<p>2.&nbsp; <strong>Read box 28 and sign page 1 boxes 30 a, b, and c (return a signed copy).</strong></p>\\n\\n<p>3.&nbsp; Fill out the Contractor Point of Contact (POC) (Generally on page 4)</p>\\n\\n<p>4. <strong>Read and notate in the brackets for 1 &amp; 2 under (d) Representations and also 1 &amp; 2 under (c) Representations, </strong>regarding telecommunications&nbsp;&nbsp;&nbsp;&nbsp;&nbsp;&nbsp;&nbsp;&nbsp;&nbsp;&nbsp;&nbsp;&nbsp;</p>\\n\\n<p>5. Representation by Corporations Regarding Delinquent Tax Liability or a Felony Conviction under any Federal Law (Feb 2016).</p>\\n\\n<p>6. <strong>Please quote FOB Destination EVERETT, WA.</strong></p>\\n\\n<p>7. <strong>Annotate the lead time.</strong></p>\\n\\n<p>8. <strong>Annotate the name of the manufacturer and the country of manufacturing. </strong>(&ldquo;CERTIFICATION REGARDING ACTUAL MANUFACTURER (BUSINESS SIZE IDENTIFICATION&rdquo;)</p>\\n\\n<p>9. ENSURE YOU CHECK APPLICABLE BOXES IN CLAUSE 52.204-24 (2)(d) (1) and (2).</p>\\n\\n<p>10. Return this information with your quote to:&nbsp;</p>\\n\\n<p>&nbsp; &nbsp; &nbsp; &nbsp; &nbsp; &nbsp; &nbsp; &nbsp; &nbsp; &nbsp; &nbsp; &nbsp; &nbsp; &nbsp; &nbsp; &nbsp; &nbsp; &nbsp; &nbsp; &nbsp; &nbsp; &nbsp; &nbsp; &nbsp; &nbsp; &nbsp; &nbsp; &nbsp; &nbsp; &nbsp; &nbsp; &nbsp; &nbsp; EMAIL: Lina.1.Cruz@DLA.MIL</p>\\n\\n<p>&nbsp; &nbsp; &nbsp; &nbsp; &nbsp; &nbsp; &nbsp; &nbsp; &nbsp; &nbsp; &nbsp; &nbsp; &nbsp; &nbsp; &nbsp; &nbsp; &nbsp; &nbsp; &nbsp; &nbsp; &nbsp; &nbsp; &nbsp; &nbsp; &nbsp; &nbsp; &nbsp; &nbsp; &nbsp; &nbsp; &nbsp; &nbsp; &nbsp; PHONE: 360-813-9267</p>\\n\\n<p></p>\\n'},\n",
       " {'error': {'code': 'OVER_RATE_LIMIT',\n",
       "   'message': 'The API key has exceeded the rate limits.'}},\n",
       " {'error': {'code': 'OVER_RATE_LIMIT',\n",
       "   'message': 'The API key has exceeded the rate limits.'}},\n",
       " {'error': {'code': 'OVER_RATE_LIMIT',\n",
       "   'message': 'The API key has exceeded the rate limits.'}},\n",
       " {'error': {'code': 'OVER_RATE_LIMIT',\n",
       "   'message': 'The API key has exceeded the rate limits.'}},\n",
       " {'error': {'code': 'OVER_RATE_LIMIT',\n",
       "   'message': 'The API key has exceeded the rate limits.'}},\n",
       " {'error': {'code': 'OVER_RATE_LIMIT',\n",
       "   'message': 'The API key has exceeded the rate limits.'}},\n",
       " {'error': {'code': 'OVER_RATE_LIMIT',\n",
       "   'message': 'The API key has exceeded the rate limits.'}}]"
      ]
     },
     "execution_count": 7,
     "metadata": {},
     "output_type": "execute_result"
    }
   ],
   "source": [
    "descs"
   ]
  },
  {
   "cell_type": "code",
   "execution_count": 14,
   "metadata": {},
   "outputs": [
    {
     "data": {
      "text/plain": [
       "10"
      ]
     },
     "execution_count": 14,
     "metadata": {},
     "output_type": "execute_result"
    }
   ],
   "source": [
    "len(descs)"
   ]
  },
  {
   "cell_type": "code",
   "execution_count": null,
   "metadata": {},
   "outputs": [],
   "source": [
    "test_desc = opportunities[0].get(\"description\")\n",
    "test_desc"
   ]
  },
  {
   "cell_type": "code",
   "execution_count": null,
   "metadata": {},
   "outputs": [],
   "source": [
    "res = requests.get(test_desc, params={\"api_key\": api_params['api_key']})"
   ]
  },
  {
   "cell_type": "code",
   "execution_count": null,
   "metadata": {},
   "outputs": [],
   "source": [
    "res.json()"
   ]
  },
  {
   "cell_type": "code",
   "execution_count": null,
   "metadata": {},
   "outputs": [],
   "source": [
    "opportunities[0]['descriptionText'] = res.json()"
   ]
  },
  {
   "cell_type": "code",
   "execution_count": 8,
   "metadata": {},
   "outputs": [
    {
     "data": {
      "text/plain": [
       "{'noticeId': 'e7b71f84b8e1485dbc3c96913bd80050',\n",
       " 'title': 'BOBBIN / ARRAY PROBE',\n",
       " 'solicitationNumber': 'SPMYM2244Q0752',\n",
       " 'fullParentPathName': 'DEPT OF DEFENSE.DEFENSE LOGISTICS AGENCY.DLA MARITIME.DLA MARITIME SHIPYARDS.DLA MARITIME - PUGET SOUND',\n",
       " 'fullParentPathCode': '097.97AS.DLA MARITIME.DLA MARITIME SHIPYDS.SPMYM2',\n",
       " 'postedDate': '2024-03-09',\n",
       " 'type': 'Solicitation',\n",
       " 'baseType': 'Solicitation',\n",
       " 'archiveType': 'auto15',\n",
       " 'archiveDate': '2024-03-23',\n",
       " 'typeOfSetAsideDescription': 'Total Small Business Set-Aside (FAR 19.5)',\n",
       " 'typeOfSetAside': 'SBA',\n",
       " 'responseDeadLine': '2024-03-08T10:00:00-08:00',\n",
       " 'naicsCode': '334513',\n",
       " 'naicsCodes': ['334513'],\n",
       " 'classificationCode': '6635',\n",
       " 'active': 'Yes',\n",
       " 'award': None,\n",
       " 'pointOfContact': [{'fax': '3604764121',\n",
       "   'type': 'primary',\n",
       "   'email': 'LINA.1.CRUZ@DLA.MIL',\n",
       "   'phone': '3608139267',\n",
       "   'title': None,\n",
       "   'fullName': 'LINA CRUZ'}],\n",
       " 'description': 'https://api.sam.gov/prod/opportunities/v1/noticedesc?noticeid=e7b71f84b8e1485dbc3c96913bd80050',\n",
       " 'organizationType': 'OFFICE',\n",
       " 'officeAddress': {'zipcode': '98314-5000',\n",
       "  'city': 'BREMERTON',\n",
       "  'countryCode': 'USA',\n",
       "  'state': 'WA'},\n",
       " 'placeOfPerformance': {'city': {'code': '7695', 'name': 'Bremerton'},\n",
       "  'state': {'code': 'WA', 'name': 'Washington'},\n",
       "  'zip': '98314',\n",
       "  'country': {'code': 'USA', 'name': 'UNITED STATES'}},\n",
       " 'additionalInfoLink': None,\n",
       " 'uiLink': 'https://sam.gov/opp/e7b71f84b8e1485dbc3c96913bd80050/view',\n",
       " 'links': [{'rel': 'self',\n",
       "   'href': 'https://api.sam.gov/prod/opportunities/v2/search?noticeid=e7b71f84b8e1485dbc3c96913bd80050&limit=1'}],\n",
       " 'resourceLinks': ['https://sam.gov/api/prod/opps/v3/opportunities/resources/files/fa4fc0fb584b406c85a747178487ba34/download?api_key=null&token='],\n",
       " 'descriptionText': {'description': '<p><strong>Notice ID</strong></p>\\n\\n<p><strong>SPMYM224Q0752</strong></p>\\n\\n<p><strong>THIS SOLICITATION SPMYM224Q075 AND ANY SUBSEQUENT AMENDMENTS WILL BE POSTED TO THE SAM WEBSITE: SAM.GOV</strong></p>\\n\\n<p>To be considered for award, if the contractor (awardee) is required to implement NIST SP 800-171, the contractor (awardee) shall have a current assessment as detailed in DFARS 252.204-7019 (I.E., not more than 3 years old unless a lesser time is specified in the solicitation)</p>\\n\\n<p>**Items deemed to be Commercial Off The Shelf (COTS) are exempt from NIST SP 800-171 requirement.&nbsp; Must identify and provide information to contracting officer on bid during solicitation period**</p>\\n\\n<p>FOR YOUR BID TO BE DEEMED RESPONSIVE A SIGNED AND COMPLETED SOLICITATION MUST BE SUBMITTED VIA EMAIL OR FAX<u><strong> BY THE OFFER DUE DATE ON THE SOLICITATION (8 MAR 2024 BY 1000 AM PST).</strong></u></p>\\n\\n<p>If you are able to quote please be sure to:</p>\\n\\n<p>1.&nbsp; Fill out box 17A with business name, address, phone number, and cage code&nbsp;</p>\\n\\n<p>2.&nbsp; <strong>Read box 28 and </strong><strong>sign page 1 boxes 30 a, b, and c (return a signed copy).</strong></p>\\n\\n<p>3.&nbsp; Fill out the Contractor Point of Contact (POC) (Generally on page 4)</p>\\n\\n<p>4. <strong>Read and </strong><strong>notate in the brackets for 1 &amp; 2 under (d) Representations and also 1 &amp; 2 under (c) Representations, </strong>regarding telecommunications&nbsp;&nbsp;&nbsp;&nbsp;&nbsp;&nbsp;&nbsp;&nbsp;&nbsp;&nbsp;&nbsp;&nbsp;</p>\\n\\n<p>5. Representation by Corporations Regarding Delinquent Tax Liability or a Felony Conviction under any Federal Law (Feb 2016).</p>\\n\\n<p>6. <strong>Please quote FOB Destination BREMERTON, WA.</strong></p>\\n\\n<p>7. <strong>Annotate the lead time.</strong></p>\\n\\n<p>8. <strong>Annotate the name of the manufacturer and the country of manufacturing. </strong>(&ldquo;CERTIFICATION REGARDING ACTUAL MANUFACTURER (BUSINESS SIZE IDENTIFICATION&rdquo;)</p>\\n\\n<p>9. ENSURE YOU CHECK APPLICABLE BOXES IN CLAUSE 52.204-24 (2)(d) (1) and (2).</p>\\n\\n<p>10. Return this information with your quote to:&nbsp;</p>\\n\\n<p>&nbsp; &nbsp; &nbsp; &nbsp; &nbsp; &nbsp; &nbsp; &nbsp; &nbsp; &nbsp; &nbsp; &nbsp; &nbsp; &nbsp; &nbsp; &nbsp; &nbsp; &nbsp; &nbsp; &nbsp; &nbsp; &nbsp; &nbsp; &nbsp; &nbsp; &nbsp; &nbsp; &nbsp; &nbsp; &nbsp; &nbsp; &nbsp; &nbsp; EMAIL: Lina.1.Cruz@DLA.MIL</p>\\n\\n<p>&nbsp; &nbsp; &nbsp; &nbsp; &nbsp; &nbsp; &nbsp; &nbsp; &nbsp; &nbsp; &nbsp; &nbsp; &nbsp; &nbsp; &nbsp; &nbsp; &nbsp; &nbsp; &nbsp; &nbsp; &nbsp; &nbsp; &nbsp; &nbsp; &nbsp; &nbsp; &nbsp; &nbsp; &nbsp; &nbsp; &nbsp; &nbsp; &nbsp; PHONE: 360-813-9267</p>\\n\\n<p></p>\\n'}}"
      ]
     },
     "execution_count": 8,
     "metadata": {},
     "output_type": "execute_result"
    }
   ],
   "source": [
    "opportunities[0]"
   ]
  },
  {
   "cell_type": "code",
   "execution_count": null,
   "metadata": {},
   "outputs": [],
   "source": [
    "res.content"
   ]
  }
 ],
 "metadata": {
  "kernelspec": {
   "display_name": ".venv",
   "language": "python",
   "name": "python3"
  },
  "language_info": {
   "codemirror_mode": {
    "name": "ipython",
    "version": 3
   },
   "file_extension": ".py",
   "mimetype": "text/x-python",
   "name": "python",
   "nbconvert_exporter": "python",
   "pygments_lexer": "ipython3",
   "version": "3.10.12"
  }
 },
 "nbformat": 4,
 "nbformat_minor": 2
}
